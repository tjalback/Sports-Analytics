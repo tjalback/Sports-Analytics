{
 "cells": [
  {
   "cell_type": "markdown",
   "metadata": {},
   "source": [
    "## Sports Analytics Notebook\n",
    "#### by Trevor Alback started 1/4/2022"
   ]
  },
  {
   "cell_type": "code",
   "execution_count": 1,
   "metadata": {},
   "outputs": [
    {
     "name": "stdout",
     "output_type": "stream",
     "text": [
      "{\"message\":\"You are not subscribed to this API.\"}\n"
     ]
    }
   ],
   "source": [
    "# This NBA api is somewhat free, if you sigh up, you can get free calls, but not to all data.\n",
    "# Try another way\n",
    "\n",
    "import http.client\n",
    "\n",
    "conn = http.client.HTTPSConnection(\"api-nba-v1.p.rapidapi.com\")\n",
    "\n",
    "headers = {\n",
    "    'X-RapidAPI-Host': \"api-nba-v1.p.rapidapi.com\",\n",
    "    'X-RapidAPI-Key': \"a77dba0749mshc84499458a980c3p12cfbcjsn2aee80739e7e\"\n",
    "    }\n",
    "\n",
    "conn.request(\"GET\", \"/seasons\", headers=headers)\n",
    "\n",
    "res = conn.getresponse()\n",
    "data = res.read()\n",
    "\n",
    "print(data.decode(\"utf-8\"))"
   ]
  },
  {
   "cell_type": "code",
   "execution_count": null,
   "metadata": {},
   "outputs": [],
   "source": [
    "## There is an nba_api package which is an api client to get data from nba.com\n",
    "## https://pypi.org/project/nba-api/"
   ]
  },
  {
   "cell_type": "code",
   "execution_count": 3,
   "metadata": {},
   "outputs": [
    {
     "name": "stdout",
     "output_type": "stream",
     "text": [
      "Collecting nba_apiNote: you may need to restart the kernel to use updated packages.\n",
      "  Downloading nba_api-1.1.11.tar.gz (125 kB)\n",
      "Requirement already satisfied: requests in c:\\users\\tjalb\\anaconda3\\lib\\site-packages (from nba_api) (2.24.0)\n",
      "Requirement already satisfied: idna<3,>=2.5 in c:\\users\\tjalb\\anaconda3\\lib\\site-packages (from requests->nba_api) (2.10)\n",
      "\n",
      "Requirement already satisfied: certifi>=2017.4.17 in c:\\users\\tjalb\\anaconda3\\lib\\site-packages (from requests->nba_api) (2020.6.20)\n",
      "Requirement already satisfied: urllib3!=1.25.0,!=1.25.1,<1.26,>=1.21.1 in c:\\users\\tjalb\\anaconda3\\lib\\site-packages (from requests->nba_api) (1.25.11)\n",
      "Requirement already satisfied: chardet<4,>=3.0.2 in c:\\users\\tjalb\\anaconda3\\lib\\site-packages (from requests->nba_api) (3.0.4)\n",
      "Building wheels for collected packages: nba-api\n",
      "  Building wheel for nba-api (setup.py): started\n",
      "  Building wheel for nba-api (setup.py): finished with status 'done'\n",
      "  Created wheel for nba-api: filename=nba_api-1.1.11-py3-none-any.whl size=251492 sha256=a33e053f518a45ca9bf53049a85cbe048a9660d85fb35f4ac03a8f8627855552\n",
      "  Stored in directory: c:\\users\\tjalb\\appdata\\local\\pip\\cache\\wheels\\96\\0a\\d6\\0e51f16e26a046ed08ce8266c86011c74bf57678cd62ad71b0\n",
      "Successfully built nba-api\n",
      "Installing collected packages: nba-api\n",
      "Successfully installed nba-api-1.1.11\n"
     ]
    }
   ],
   "source": [
    "# pip install the package to access the libraries\n",
    "# pip install nba_api"
   ]
  },
  {
   "cell_type": "code",
   "execution_count": 4,
   "metadata": {},
   "outputs": [],
   "source": [
    "import pandas as pd\n",
    "import numpy as np\n",
    "from sklearn import linear_model\n",
    "import requests\n",
    "from nba_api.stats import endpoints\n",
    "from matplotlib import pyplot as plt"
   ]
  },
  {
   "cell_type": "code",
   "execution_count": 10,
   "metadata": {},
   "outputs": [],
   "source": [
    "# Example data extract below: find league leaders\n",
    "# Access leagueleaders module through endpoints & assign the class to \"data\"\n",
    "data = endpoints.leagueleaders.LeagueLeaders() \n",
    "\n",
    "# Create a league leaders data frame (ll_df) using \"data\" variable and its built in functions\n",
    "ll_df = data.league_leaders.get_data_frame()"
   ]
  },
  {
   "cell_type": "code",
   "execution_count": 11,
   "metadata": {},
   "outputs": [
    {
     "data": {
      "text/html": [
       "<div>\n",
       "<style scoped>\n",
       "    .dataframe tbody tr th:only-of-type {\n",
       "        vertical-align: middle;\n",
       "    }\n",
       "\n",
       "    .dataframe tbody tr th {\n",
       "        vertical-align: top;\n",
       "    }\n",
       "\n",
       "    .dataframe thead th {\n",
       "        text-align: right;\n",
       "    }\n",
       "</style>\n",
       "<table border=\"1\" class=\"dataframe\">\n",
       "  <thead>\n",
       "    <tr style=\"text-align: right;\">\n",
       "      <th></th>\n",
       "      <th>PLAYER_ID</th>\n",
       "      <th>RANK</th>\n",
       "      <th>PLAYER</th>\n",
       "      <th>TEAM</th>\n",
       "      <th>GP</th>\n",
       "      <th>MIN</th>\n",
       "      <th>FGM</th>\n",
       "      <th>FGA</th>\n",
       "      <th>FG_PCT</th>\n",
       "      <th>FG3M</th>\n",
       "      <th>...</th>\n",
       "      <th>REB</th>\n",
       "      <th>AST</th>\n",
       "      <th>STL</th>\n",
       "      <th>BLK</th>\n",
       "      <th>TOV</th>\n",
       "      <th>PF</th>\n",
       "      <th>PTS</th>\n",
       "      <th>EFF</th>\n",
       "      <th>AST_TOV</th>\n",
       "      <th>STL_TOV</th>\n",
       "    </tr>\n",
       "  </thead>\n",
       "  <tbody>\n",
       "    <tr>\n",
       "      <th>0</th>\n",
       "      <td>201942</td>\n",
       "      <td>1</td>\n",
       "      <td>DeMar DeRozan</td>\n",
       "      <td>CHI</td>\n",
       "      <td>72</td>\n",
       "      <td>2605</td>\n",
       "      <td>739</td>\n",
       "      <td>1462</td>\n",
       "      <td>0.505</td>\n",
       "      <td>48</td>\n",
       "      <td>...</td>\n",
       "      <td>385</td>\n",
       "      <td>360</td>\n",
       "      <td>64</td>\n",
       "      <td>24</td>\n",
       "      <td>170</td>\n",
       "      <td>168</td>\n",
       "      <td>2019</td>\n",
       "      <td>1888</td>\n",
       "      <td>2.12</td>\n",
       "      <td>0.38</td>\n",
       "    </tr>\n",
       "    <tr>\n",
       "      <th>1</th>\n",
       "      <td>1629027</td>\n",
       "      <td>2</td>\n",
       "      <td>Trae Young</td>\n",
       "      <td>ATL</td>\n",
       "      <td>71</td>\n",
       "      <td>2472</td>\n",
       "      <td>661</td>\n",
       "      <td>1437</td>\n",
       "      <td>0.460</td>\n",
       "      <td>216</td>\n",
       "      <td>...</td>\n",
       "      <td>265</td>\n",
       "      <td>682</td>\n",
       "      <td>71</td>\n",
       "      <td>7</td>\n",
       "      <td>282</td>\n",
       "      <td>117</td>\n",
       "      <td>2000</td>\n",
       "      <td>1918</td>\n",
       "      <td>2.42</td>\n",
       "      <td>0.25</td>\n",
       "    </tr>\n",
       "    <tr>\n",
       "      <th>2</th>\n",
       "      <td>1628369</td>\n",
       "      <td>3</td>\n",
       "      <td>Jayson Tatum</td>\n",
       "      <td>BOS</td>\n",
       "      <td>72</td>\n",
       "      <td>2608</td>\n",
       "      <td>673</td>\n",
       "      <td>1491</td>\n",
       "      <td>0.451</td>\n",
       "      <td>219</td>\n",
       "      <td>...</td>\n",
       "      <td>578</td>\n",
       "      <td>310</td>\n",
       "      <td>69</td>\n",
       "      <td>46</td>\n",
       "      <td>207</td>\n",
       "      <td>168</td>\n",
       "      <td>1946</td>\n",
       "      <td>1862</td>\n",
       "      <td>1.50</td>\n",
       "      <td>0.33</td>\n",
       "    </tr>\n",
       "    <tr>\n",
       "      <th>3</th>\n",
       "      <td>203507</td>\n",
       "      <td>4</td>\n",
       "      <td>Giannis Antetokounmpo</td>\n",
       "      <td>MIL</td>\n",
       "      <td>63</td>\n",
       "      <td>2075</td>\n",
       "      <td>650</td>\n",
       "      <td>1173</td>\n",
       "      <td>0.554</td>\n",
       "      <td>69</td>\n",
       "      <td>...</td>\n",
       "      <td>735</td>\n",
       "      <td>366</td>\n",
       "      <td>66</td>\n",
       "      <td>90</td>\n",
       "      <td>209</td>\n",
       "      <td>202</td>\n",
       "      <td>1897</td>\n",
       "      <td>2220</td>\n",
       "      <td>1.75</td>\n",
       "      <td>0.32</td>\n",
       "    </tr>\n",
       "    <tr>\n",
       "      <th>4</th>\n",
       "      <td>203954</td>\n",
       "      <td>5</td>\n",
       "      <td>Joel Embiid</td>\n",
       "      <td>PHI</td>\n",
       "      <td>63</td>\n",
       "      <td>2114</td>\n",
       "      <td>600</td>\n",
       "      <td>1223</td>\n",
       "      <td>0.491</td>\n",
       "      <td>85</td>\n",
       "      <td>...</td>\n",
       "      <td>722</td>\n",
       "      <td>267</td>\n",
       "      <td>73</td>\n",
       "      <td>91</td>\n",
       "      <td>194</td>\n",
       "      <td>171</td>\n",
       "      <td>1890</td>\n",
       "      <td>2091</td>\n",
       "      <td>1.38</td>\n",
       "      <td>0.38</td>\n",
       "    </tr>\n",
       "  </tbody>\n",
       "</table>\n",
       "<p>5 rows × 27 columns</p>\n",
       "</div>"
      ],
      "text/plain": [
       "   PLAYER_ID  RANK                 PLAYER TEAM  GP   MIN  FGM   FGA  FG_PCT  \\\n",
       "0     201942     1          DeMar DeRozan  CHI  72  2605  739  1462   0.505   \n",
       "1    1629027     2             Trae Young  ATL  71  2472  661  1437   0.460   \n",
       "2    1628369     3           Jayson Tatum  BOS  72  2608  673  1491   0.451   \n",
       "3     203507     4  Giannis Antetokounmpo  MIL  63  2075  650  1173   0.554   \n",
       "4     203954     5            Joel Embiid  PHI  63  2114  600  1223   0.491   \n",
       "\n",
       "   FG3M  ...  REB  AST  STL  BLK  TOV   PF   PTS   EFF  AST_TOV  STL_TOV  \n",
       "0    48  ...  385  360   64   24  170  168  2019  1888     2.12     0.38  \n",
       "1   216  ...  265  682   71    7  282  117  2000  1918     2.42     0.25  \n",
       "2   219  ...  578  310   69   46  207  168  1946  1862     1.50     0.33  \n",
       "3    69  ...  735  366   66   90  209  202  1897  2220     1.75     0.32  \n",
       "4    85  ...  722  267   73   91  194  171  1890  2091     1.38     0.38  \n",
       "\n",
       "[5 rows x 27 columns]"
      ]
     },
     "execution_count": 11,
     "metadata": {},
     "output_type": "execute_result"
    }
   ],
   "source": [
    "ll_df.head()"
   ]
  },
  {
   "cell_type": "code",
   "execution_count": 25,
   "metadata": {},
   "outputs": [
    {
     "name": "stdout",
     "output_type": "stream",
     "text": [
      "(597, 27)\n"
     ]
    },
    {
     "data": {
      "text/plain": [
       "Index(['PLAYER_ID', 'RANK', 'PLAYER', 'TEAM', 'GP', 'MIN', 'FGM', 'FGA',\n",
       "       'FG_PCT', 'FG3M', 'FG3A', 'FG3_PCT', 'FTM', 'FTA', 'FT_PCT', 'OREB',\n",
       "       'DREB', 'REB', 'AST', 'STL', 'BLK', 'TOV', 'PF', 'PTS', 'EFF',\n",
       "       'AST_TOV', 'STL_TOV'],\n",
       "      dtype='object')"
      ]
     },
     "execution_count": 25,
     "metadata": {},
     "output_type": "execute_result"
    }
   ],
   "source": [
    "print(ll_df.shape)\n",
    "ll_df.columns"
   ]
  },
  {
   "cell_type": "code",
   "execution_count": 26,
   "metadata": {},
   "outputs": [],
   "source": [
    "#ll_df.info()"
   ]
  },
  {
   "cell_type": "code",
   "execution_count": 24,
   "metadata": {},
   "outputs": [
    {
     "name": "stdout",
     "output_type": "stream",
     "text": [
      "Help on package nba_api.stats.endpoints in nba_api.stats:\n",
      "\n",
      "NAME\n",
      "    nba_api.stats.endpoints\n",
      "\n",
      "PACKAGE CONTENTS\n",
      "    _base\n",
      "    alltimeleadersgrids\n",
      "    assistleaders\n",
      "    assisttracker\n",
      "    boxscoreadvancedv2\n",
      "    boxscoredefensive\n",
      "    boxscorefourfactorsv2\n",
      "    boxscorematchups\n",
      "    boxscoremiscv2\n",
      "    boxscoreplayertrackv2\n",
      "    boxscorescoringv2\n",
      "    boxscoresimilarityscore\n",
      "    boxscoresummaryv2\n",
      "    boxscoretraditionalv2\n",
      "    boxscoreusagev2\n",
      "    commonallplayers\n",
      "    commonplayerinfo\n",
      "    commonplayoffseries\n",
      "    commonteamroster\n",
      "    commonteamyears\n",
      "    cumestatsplayer\n",
      "    cumestatsplayergames\n",
      "    cumestatsteam\n",
      "    cumestatsteamgames\n",
      "    defensehub\n",
      "    draftboard\n",
      "    draftcombinedrillresults\n",
      "    draftcombinenonstationaryshooting\n",
      "    draftcombineplayeranthro\n",
      "    draftcombinespotshooting\n",
      "    draftcombinestats\n",
      "    drafthistory\n",
      "    fantasywidget\n",
      "    franchisehistory\n",
      "    franchiseleaders\n",
      "    franchiseplayers\n",
      "    gamerotation\n",
      "    glalumboxscoresimilarityscore\n",
      "    homepageleaders\n",
      "    homepagev2\n",
      "    hustlestatsboxscore\n",
      "    infographicfanduelplayer\n",
      "    leaderstiles\n",
      "    leaguedashlineups\n",
      "    leaguedashoppptshot\n",
      "    leaguedashplayerbiostats\n",
      "    leaguedashplayerclutch\n",
      "    leaguedashplayerptshot\n",
      "    leaguedashplayershotlocations\n",
      "    leaguedashplayerstats\n",
      "    leaguedashptdefend\n",
      "    leaguedashptstats\n",
      "    leaguedashptteamdefend\n",
      "    leaguedashteamclutch\n",
      "    leaguedashteamptshot\n",
      "    leaguedashteamshotlocations\n",
      "    leaguedashteamstats\n",
      "    leaguegamefinder\n",
      "    leaguegamelog\n",
      "    leaguehustlestatsplayer\n",
      "    leaguehustlestatsplayerleaders\n",
      "    leaguehustlestatsteam\n",
      "    leaguehustlestatsteamleaders\n",
      "    leagueleaders\n",
      "    leaguelineupviz\n",
      "    leagueplayerondetails\n",
      "    leagueseasonmatchups\n",
      "    leaguestandings\n",
      "    leaguestandingsv3\n",
      "    matchupsrollup\n",
      "    playbyplay\n",
      "    playbyplayv2\n",
      "    playerawards\n",
      "    playercareerbycollege\n",
      "    playercareerbycollegerollup\n",
      "    playercareerstats\n",
      "    playercompare\n",
      "    playerdashboardbyclutch\n",
      "    playerdashboardbygamesplits\n",
      "    playerdashboardbygeneralsplits\n",
      "    playerdashboardbylastngames\n",
      "    playerdashboardbyopponent\n",
      "    playerdashboardbyshootingsplits\n",
      "    playerdashboardbyteamperformance\n",
      "    playerdashboardbyyearoveryear\n",
      "    playerdashptpass\n",
      "    playerdashptreb\n",
      "    playerdashptshotdefend\n",
      "    playerdashptshots\n",
      "    playerestimatedmetrics\n",
      "    playerfantasyprofile\n",
      "    playerfantasyprofilebargraph\n",
      "    playergamelog\n",
      "    playergamelogs\n",
      "    playergamestreakfinder\n",
      "    playernextngames\n",
      "    playerprofilev2\n",
      "    playervsplayer\n",
      "    playoffpicture\n",
      "    scoreboard\n",
      "    scoreboardv2\n",
      "    shotchartdetail\n",
      "    shotchartleaguewide\n",
      "    shotchartlineupdetail\n",
      "    synergyplaytypes\n",
      "    teamandplayersvsplayers\n",
      "    teamdashboardbyclutch\n",
      "    teamdashboardbygamesplits\n",
      "    teamdashboardbygeneralsplits\n",
      "    teamdashboardbylastngames\n",
      "    teamdashboardbyopponent\n",
      "    teamdashboardbyshootingsplits\n",
      "    teamdashboardbyteamperformance\n",
      "    teamdashboardbyyearoveryear\n",
      "    teamdashlineups\n",
      "    teamdashptpass\n",
      "    teamdashptreb\n",
      "    teamdashptshots\n",
      "    teamdetails\n",
      "    teamestimatedmetrics\n",
      "    teamgamelog\n",
      "    teamgamelogs\n",
      "    teamgamestreakfinder\n",
      "    teamhistoricalleaders\n",
      "    teaminfocommon\n",
      "    teamplayerdashboard\n",
      "    teamplayeronoffdetails\n",
      "    teamplayeronoffsummary\n",
      "    teamvsplayer\n",
      "    teamyearbyyearstats\n",
      "    videodetails\n",
      "    videoevents\n",
      "    videostatus\n",
      "    winprobabilitypbp\n",
      "\n",
      "DATA\n",
      "    __all__ = ['alltimeleadersgrids', 'assistleaders', 'assisttracker', 'b...\n",
      "\n",
      "FILE\n",
      "    c:\\users\\tjalb\\anaconda3\\lib\\site-packages\\nba_api\\stats\\endpoints\\__init__.py\n",
      "\n",
      "\n"
     ]
    }
   ],
   "source": [
    "help(endpoints)"
   ]
  },
  {
   "cell_type": "code",
   "execution_count": 28,
   "metadata": {},
   "outputs": [],
   "source": [
    "# What are we looking for? Let's import player info from static and get some example unique ID's\n",
    "# See bottom of below link for reference on accessing player and team id's\n",
    "# https://github.com/swar/nba_api/blob/master/docs/examples/Basics.ipynb"
   ]
  },
  {
   "cell_type": "code",
   "execution_count": 55,
   "metadata": {},
   "outputs": [
    {
     "data": {
      "text/plain": [
       "[{'id': 76001,\n",
       "  'full_name': 'Alaa Abdelnaby',\n",
       "  'first_name': 'Alaa',\n",
       "  'last_name': 'Abdelnaby',\n",
       "  'is_active': False},\n",
       " {'id': 76002,\n",
       "  'full_name': 'Zaid Abdul-Aziz',\n",
       "  'first_name': 'Zaid',\n",
       "  'last_name': 'Abdul-Aziz',\n",
       "  'is_active': False},\n",
       " {'id': 76003,\n",
       "  'full_name': 'Kareem Abdul-Jabbar',\n",
       "  'first_name': 'Kareem',\n",
       "  'last_name': 'Abdul-Jabbar',\n",
       "  'is_active': False}]"
      ]
     },
     "execution_count": 55,
     "metadata": {},
     "output_type": "execute_result"
    }
   ],
   "source": [
    "from nba_api.stats.static import players\n",
    "nba_players = players.get_players()\n",
    "nba_players[:3]"
   ]
  },
  {
   "cell_type": "code",
   "execution_count": 66,
   "metadata": {},
   "outputs": [
    {
     "name": "stdout",
     "output_type": "stream",
     "text": [
      "{'id': 201142, 'full_name': 'Kevin Durant', 'first_name': 'Kevin', 'last_name': 'Durant', 'is_active': True}\n",
      "--------\n",
      "201142\n"
     ]
    }
   ],
   "source": [
    "# Find a unique player id for a player by full name\n",
    "# Names are case sensitive\n",
    "KD = [player for player in nba_players if player['full_name'] == 'Kevin Durant'][0]\n",
    "print(KD)\n",
    "print('--------')\n",
    "KD_ID = KD['id']\n",
    "print(KD_ID)"
   ]
  },
  {
   "cell_type": "code",
   "execution_count": 56,
   "metadata": {},
   "outputs": [
    {
     "name": "stdout",
     "output_type": "stream",
     "text": [
      "Number of players fetched: 4723\n"
     ]
    }
   ],
   "source": [
    "print('Number of players fetched: {}'.format(len(nba_players)))"
   ]
  },
  {
   "cell_type": "code",
   "execution_count": 70,
   "metadata": {},
   "outputs": [
    {
     "name": "stdout",
     "output_type": "stream",
     "text": [
      "['foo', 'baz']\n"
     ]
    }
   ],
   "source": [
    "d = {\"foo\": 1, \"bar\": 2, \"baz\": 1}\n",
    "keys_for_1 = [k for k in d if d[k] == 1]\n",
    "print(keys_for_1)"
   ]
  },
  {
   "cell_type": "markdown",
   "metadata": {},
   "source": [
    "I wanted to see how many players in this list had the last name 'Jordan'. I wondered how many more Jordans there were on top of Michael Jordan and DeAndre Jordan.  "
   ]
  },
  {
   "cell_type": "code",
   "execution_count": 122,
   "metadata": {},
   "outputs": [
    {
     "name": "stdout",
     "output_type": "stream",
     "text": [
      "There are 8 Jordans in this NBA player list\n"
     ]
    }
   ],
   "source": [
    "how_many_Jordans = 0\n",
    "Jordans_info = []\n",
    "for i in range(len(nba_players)):\n",
    "    if nba_players[i]['last_name'] == 'Jordan':\n",
    "        Jordans_info.append(nba_players[i])\n",
    "        how_many_Jordans += 1\n",
    "print('There are {} Jordans in this NBA player list'.format(how_many_Jordans))"
   ]
  },
  {
   "cell_type": "code",
   "execution_count": 123,
   "metadata": {},
   "outputs": [
    {
     "name": "stdout",
     "output_type": "stream",
     "text": [
      "Adonis Jordan\n",
      "DeAndre Jordan\n",
      "Eddie Jordan\n",
      "Jerome Jordan\n",
      "Michael Jordan\n",
      "Reggie Jordan\n",
      "Thomas Jordan\n",
      "Walter Jordan\n"
     ]
    }
   ],
   "source": [
    "# who are they\n",
    "for Jordan in range(len(Jordans_info)):\n",
    "    print(Jordans_info[Jordan]['full_name'])"
   ]
  },
  {
   "cell_type": "markdown",
   "metadata": {},
   "source": [
    "What about players with the first name 'James'? I knew of James Harden, James Worthy, James Johnson."
   ]
  },
  {
   "cell_type": "code",
   "execution_count": 124,
   "metadata": {},
   "outputs": [
    {
     "name": "stdout",
     "output_type": "stream",
     "text": [
      "There are 31 players with the first name of James\n"
     ]
    }
   ],
   "source": [
    "how_many_Jameses = 0\n",
    "James_info = []\n",
    "for i in range(len(nba_players)):\n",
    "    if nba_players[i]['first_name'] == 'James':\n",
    "        James_info.append(nba_players[i])\n",
    "        how_many_Jameses += 1\n",
    "print('There are {} players with the first name of James'.format(how_many_Jameses))"
   ]
  },
  {
   "cell_type": "code",
   "execution_count": 125,
   "metadata": {},
   "outputs": [
    {
     "name": "stdout",
     "output_type": "stream",
     "text": [
      "James Anderson\n",
      "James Augustine\n",
      "James Bailey\n",
      "James Blackwell\n",
      "James Bouknight\n",
      "James Collins\n",
      "James Cotton\n",
      "James Davis\n",
      "James Donaldson\n",
      "James Edwards\n",
      "James Ennis III\n",
      "James Harden\n",
      "James Hardy\n",
      "James Johnson\n",
      "James Jones\n",
      "James Lang\n",
      "James Nunnally\n",
      "James Owens\n",
      "James Posey\n",
      "James Robinson\n",
      "James Scott\n",
      "James Silas\n",
      "James Singleton\n",
      "James Southerland\n",
      "James Thomas\n",
      "James Webb III\n",
      "James White\n",
      "James Wilkes\n",
      "James Wiseman\n",
      "James Worthy\n",
      "James Young\n"
     ]
    }
   ],
   "source": [
    "for James in range(len(James_info)):\n",
    "    print(James_info[James]['full_name'])"
   ]
  },
  {
   "cell_type": "code",
   "execution_count": 128,
   "metadata": {},
   "outputs": [
    {
     "name": "stdout",
     "output_type": "stream",
     "text": [
      "There are 30 teams in this list of dictionaries of NBA teams.\n"
     ]
    }
   ],
   "source": [
    "# team Ids\n",
    "from nba_api.stats.static import teams \n",
    "NBA_teams = teams.get_teams()\n",
    "print('There are {} teams in this list of dictionaries of NBA teams.'.format(len(NBA_teams)))"
   ]
  },
  {
   "cell_type": "code",
   "execution_count": 132,
   "metadata": {},
   "outputs": [
    {
     "data": {
      "text/plain": [
       "1610612744"
      ]
     },
     "execution_count": 132,
     "metadata": {},
     "output_type": "execute_result"
    }
   ],
   "source": [
    "# Golden State Warriors team id\n",
    "GSW = [x for x in NBA_teams if x['full_name'] == 'Golden State Warriors'][0]\n",
    "GSW_ID = GSW['id']\n",
    "GSW_ID"
   ]
  },
  {
   "cell_type": "code",
   "execution_count": 131,
   "metadata": {},
   "outputs": [
    {
     "data": {
      "text/plain": [
       "{'id': 1610612744,\n",
       " 'full_name': 'Golden State Warriors',\n",
       " 'abbreviation': 'GSW',\n",
       " 'nickname': 'Warriors',\n",
       " 'city': 'Golden State',\n",
       " 'state': 'California',\n",
       " 'year_founded': 1946}"
      ]
     },
     "execution_count": 131,
     "metadata": {},
     "output_type": "execute_result"
    }
   ],
   "source": [
    "GSW"
   ]
  },
  {
   "cell_type": "markdown",
   "metadata": {},
   "source": [
    "We want player id and team id so we can extract other data. \n",
    "Let's have a look at Kevin Durant (my favourite player!) and the fan favourite GSW.\n",
    "From earlier:"
   ]
  },
  {
   "cell_type": "code",
   "execution_count": 134,
   "metadata": {},
   "outputs": [
    {
     "name": "stdout",
     "output_type": "stream",
     "text": [
      "201142\n",
      "1610612744\n"
     ]
    }
   ],
   "source": [
    "print(KD_ID)\n",
    "print(GSW_ID)"
   ]
  },
  {
   "cell_type": "code",
   "execution_count": 159,
   "metadata": {},
   "outputs": [
    {
     "data": {
      "text/html": [
       "<div>\n",
       "<style scoped>\n",
       "    .dataframe tbody tr th:only-of-type {\n",
       "        vertical-align: middle;\n",
       "    }\n",
       "\n",
       "    .dataframe tbody tr th {\n",
       "        vertical-align: top;\n",
       "    }\n",
       "\n",
       "    .dataframe thead th {\n",
       "        text-align: right;\n",
       "    }\n",
       "</style>\n",
       "<table border=\"1\" class=\"dataframe\">\n",
       "  <thead>\n",
       "    <tr style=\"text-align: right;\">\n",
       "      <th></th>\n",
       "      <th>PLAYER_ID</th>\n",
       "      <th>SEASON_ID</th>\n",
       "      <th>LEAGUE_ID</th>\n",
       "      <th>TEAM_ID</th>\n",
       "      <th>TEAM_ABBREVIATION</th>\n",
       "      <th>PLAYER_AGE</th>\n",
       "      <th>GP</th>\n",
       "      <th>GS</th>\n",
       "      <th>MIN</th>\n",
       "      <th>FGM</th>\n",
       "      <th>...</th>\n",
       "      <th>FT_PCT</th>\n",
       "      <th>OREB</th>\n",
       "      <th>DREB</th>\n",
       "      <th>REB</th>\n",
       "      <th>AST</th>\n",
       "      <th>STL</th>\n",
       "      <th>BLK</th>\n",
       "      <th>TOV</th>\n",
       "      <th>PF</th>\n",
       "      <th>PTS</th>\n",
       "    </tr>\n",
       "  </thead>\n",
       "  <tbody>\n",
       "    <tr>\n",
       "      <th>0</th>\n",
       "      <td>201142</td>\n",
       "      <td>2007-08</td>\n",
       "      <td>00</td>\n",
       "      <td>1610612760</td>\n",
       "      <td>SEA</td>\n",
       "      <td>19.0</td>\n",
       "      <td>80</td>\n",
       "      <td>80</td>\n",
       "      <td>2768.0</td>\n",
       "      <td>587</td>\n",
       "      <td>...</td>\n",
       "      <td>0.873</td>\n",
       "      <td>70</td>\n",
       "      <td>278</td>\n",
       "      <td>348</td>\n",
       "      <td>192</td>\n",
       "      <td>78</td>\n",
       "      <td>75</td>\n",
       "      <td>232</td>\n",
       "      <td>122</td>\n",
       "      <td>1624</td>\n",
       "    </tr>\n",
       "    <tr>\n",
       "      <th>1</th>\n",
       "      <td>201142</td>\n",
       "      <td>2008-09</td>\n",
       "      <td>00</td>\n",
       "      <td>1610612760</td>\n",
       "      <td>OKC</td>\n",
       "      <td>20.0</td>\n",
       "      <td>74</td>\n",
       "      <td>74</td>\n",
       "      <td>2885.0</td>\n",
       "      <td>661</td>\n",
       "      <td>...</td>\n",
       "      <td>0.863</td>\n",
       "      <td>77</td>\n",
       "      <td>405</td>\n",
       "      <td>482</td>\n",
       "      <td>205</td>\n",
       "      <td>96</td>\n",
       "      <td>53</td>\n",
       "      <td>225</td>\n",
       "      <td>134</td>\n",
       "      <td>1871</td>\n",
       "    </tr>\n",
       "    <tr>\n",
       "      <th>2</th>\n",
       "      <td>201142</td>\n",
       "      <td>2009-10</td>\n",
       "      <td>00</td>\n",
       "      <td>1610612760</td>\n",
       "      <td>OKC</td>\n",
       "      <td>21.0</td>\n",
       "      <td>82</td>\n",
       "      <td>82</td>\n",
       "      <td>3239.0</td>\n",
       "      <td>794</td>\n",
       "      <td>...</td>\n",
       "      <td>0.900</td>\n",
       "      <td>105</td>\n",
       "      <td>518</td>\n",
       "      <td>623</td>\n",
       "      <td>231</td>\n",
       "      <td>112</td>\n",
       "      <td>84</td>\n",
       "      <td>271</td>\n",
       "      <td>171</td>\n",
       "      <td>2472</td>\n",
       "    </tr>\n",
       "    <tr>\n",
       "      <th>3</th>\n",
       "      <td>201142</td>\n",
       "      <td>2010-11</td>\n",
       "      <td>00</td>\n",
       "      <td>1610612760</td>\n",
       "      <td>OKC</td>\n",
       "      <td>22.0</td>\n",
       "      <td>78</td>\n",
       "      <td>78</td>\n",
       "      <td>3038.0</td>\n",
       "      <td>711</td>\n",
       "      <td>...</td>\n",
       "      <td>0.880</td>\n",
       "      <td>57</td>\n",
       "      <td>476</td>\n",
       "      <td>533</td>\n",
       "      <td>214</td>\n",
       "      <td>88</td>\n",
       "      <td>76</td>\n",
       "      <td>218</td>\n",
       "      <td>159</td>\n",
       "      <td>2161</td>\n",
       "    </tr>\n",
       "    <tr>\n",
       "      <th>4</th>\n",
       "      <td>201142</td>\n",
       "      <td>2011-12</td>\n",
       "      <td>00</td>\n",
       "      <td>1610612760</td>\n",
       "      <td>OKC</td>\n",
       "      <td>23.0</td>\n",
       "      <td>66</td>\n",
       "      <td>66</td>\n",
       "      <td>2546.0</td>\n",
       "      <td>643</td>\n",
       "      <td>...</td>\n",
       "      <td>0.860</td>\n",
       "      <td>40</td>\n",
       "      <td>487</td>\n",
       "      <td>527</td>\n",
       "      <td>231</td>\n",
       "      <td>88</td>\n",
       "      <td>77</td>\n",
       "      <td>248</td>\n",
       "      <td>133</td>\n",
       "      <td>1850</td>\n",
       "    </tr>\n",
       "  </tbody>\n",
       "</table>\n",
       "<p>5 rows × 27 columns</p>\n",
       "</div>"
      ],
      "text/plain": [
       "   PLAYER_ID SEASON_ID LEAGUE_ID     TEAM_ID TEAM_ABBREVIATION  PLAYER_AGE  \\\n",
       "0     201142   2007-08        00  1610612760               SEA        19.0   \n",
       "1     201142   2008-09        00  1610612760               OKC        20.0   \n",
       "2     201142   2009-10        00  1610612760               OKC        21.0   \n",
       "3     201142   2010-11        00  1610612760               OKC        22.0   \n",
       "4     201142   2011-12        00  1610612760               OKC        23.0   \n",
       "\n",
       "   GP  GS     MIN  FGM  ...  FT_PCT  OREB  DREB  REB  AST  STL  BLK  TOV   PF  \\\n",
       "0  80  80  2768.0  587  ...   0.873    70   278  348  192   78   75  232  122   \n",
       "1  74  74  2885.0  661  ...   0.863    77   405  482  205   96   53  225  134   \n",
       "2  82  82  3239.0  794  ...   0.900   105   518  623  231  112   84  271  171   \n",
       "3  78  78  3038.0  711  ...   0.880    57   476  533  214   88   76  218  159   \n",
       "4  66  66  2546.0  643  ...   0.860    40   487  527  231   88   77  248  133   \n",
       "\n",
       "    PTS  \n",
       "0  1624  \n",
       "1  1871  \n",
       "2  2472  \n",
       "3  2161  \n",
       "4  1850  \n",
       "\n",
       "[5 rows x 27 columns]"
      ]
     },
     "execution_count": 159,
     "metadata": {},
     "output_type": "execute_result"
    }
   ],
   "source": [
    "# Kevin Durant\n",
    "KD_career = playercareerstats.PlayerCareerStats(player_id=str(KD_ID))\n",
    "KD_yby = KD_career.get_data_frames()[0]\n",
    "KD_yby.head()"
   ]
  },
  {
   "cell_type": "code",
   "execution_count": 175,
   "metadata": {},
   "outputs": [
    {
     "data": {
      "image/png": "[encoded data removed]",
      "text/plain": [
       "<Figure size 432x288 with 1 Axes>"
      ]
     },
     "metadata": {
      "needs_background": "light"
     },
     "output_type": "display_data"
    }
   ],
   "source": [
    "fig, ax = plt.subplots()\n",
    "ax.bar(KD_yby['SEASON_ID'], KD_yby['FGM'])\n",
    "\n",
    "ax.set(xlabel='Season', ylabel='FGM',\n",
    "       title='Simple plot FGM')\n",
    "plt.xticks(rotation=90)\n",
    "ax.grid(False)"
   ]
  },
  {
   "cell_type": "code",
   "execution_count": 176,
   "metadata": {},
   "outputs": [
    {
     "data": {
      "image/png": "[encoded data removed]",
      "text/plain": [
       "<Figure size 432x288 with 1 Axes>"
      ]
     },
     "metadata": {
      "needs_background": "light"
     },
     "output_type": "display_data"
    }
   ],
   "source": [
    "fig, ax = plt.subplots()\n",
    "ax.bar(KD_yby['SEASON_ID'], KD_yby['FG_PCT'])\n",
    "\n",
    "ax.set(xlabel='Season', ylabel='FGM',\n",
    "       title='Simple plot FG%')\n",
    "plt.xticks(rotation=90)\n",
    "ax.grid(False)"
   ]
  },
  {
   "cell_type": "code",
   "execution_count": null,
   "metadata": {},
   "outputs": [],
   "source": []
  }
 ],
 "metadata": {
  "kernelspec": {
   "display_name": "Python 3",
   "language": "python",
   "name": "python3"
  },
  "language_info": {
   "codemirror_mode": {
    "name": "ipython",
    "version": 3
   },
   "file_extension": ".py",
   "mimetype": "text/x-python",
   "name": "python",
   "nbconvert_exporter": "python",
   "pygments_lexer": "ipython3",
   "version": "3.8.5"
  }
 },
 "nbformat": 4,
 "nbformat_minor": 4
}
