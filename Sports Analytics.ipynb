{
 "cells": [
  {
   "cell_type": "markdown",
   "metadata": {},
   "source": [
    "## Sports Analytics Notebook\n",
    "#### by Trevor Alback started 1/4/2022"
   ]
  },
  {
   "cell_type": "code",
   "execution_count": 37,
   "metadata": {},
   "outputs": [
    {
     "name": "stdout",
     "output_type": "stream",
     "text": [
      "{\"message\":\"You are not subscribed to this API.\"}\n"
     ]
    }
   ],
   "source": [
    "# This NBA api is somewhat free, if you sigh up, you can get free calls, but not to all data.\n",
    "# Try another way\n",
    "\n",
    "import http.client\n",
    "\n",
    "conn = http.client.HTTPSConnection(\"api-nba-v1.p.rapidapi.com\")\n",
    "\n",
    "headers = {\n",
    "    'X-RapidAPI-Host': \"api-nba-v1.p.rapidapi.com\",\n",
    "    'X-RapidAPI-Key': \"a77dba0749mshc84499458a980c3p12cfbcjsn2aee80739e7e\"\n",
    "    }\n",
    "\n",
    "conn.request(\"GET\", \"/seasons\", headers=headers)\n",
    "\n",
    "res = conn.getresponse()\n",
    "data = res.read()\n",
    "\n",
    "print(data.decode(\"utf-8\"))"
   ]
  },
  {
   "cell_type": "code",
   "execution_count": 38,
   "metadata": {},
   "outputs": [],
   "source": [
    "## There is an nba_api package which is an api client to get data from nba.com\n",
    "## https://pypi.org/project/nba-api/"
   ]
  },
  {
   "cell_type": "code",
   "execution_count": 39,
   "metadata": {},
   "outputs": [],
   "source": [
    "# pip install the package to access the libraries\n",
    "# pip install nba_api"
   ]
  },
  {
   "cell_type": "code",
   "execution_count": 40,
   "metadata": {},
   "outputs": [],
   "source": [
    "import pandas as pd\n",
    "import numpy as np\n",
    "from sklearn import linear_model\n",
    "import requests\n",
    "from nba_api.stats import endpoints\n",
    "from matplotlib import pyplot as plt"
   ]
  },
  {
   "cell_type": "code",
   "execution_count": 41,
   "metadata": {},
   "outputs": [],
   "source": [
    "# Example data extract below: find league leaders\n",
    "# Access leagueleaders module through endpoints & assign the class to \"data\"\n",
    "data = endpoints.leagueleaders.LeagueLeaders() \n",
    "\n",
    "# Create a league leaders data frame (ll_df) using \"data\" variable and its built in functions\n",
    "ll_df = data.league_leaders.get_data_frame()"
   ]
  },
  {
   "cell_type": "code",
   "execution_count": 42,
   "metadata": {},
   "outputs": [
    {
     "data": {
      "text/html": [
       "<div>\n",
       "<style scoped>\n",
       "    .dataframe tbody tr th:only-of-type {\n",
       "        vertical-align: middle;\n",
       "    }\n",
       "\n",
       "    .dataframe tbody tr th {\n",
       "        vertical-align: top;\n",
       "    }\n",
       "\n",
       "    .dataframe thead th {\n",
       "        text-align: right;\n",
       "    }\n",
       "</style>\n",
       "<table border=\"1\" class=\"dataframe\">\n",
       "  <thead>\n",
       "    <tr style=\"text-align: right;\">\n",
       "      <th></th>\n",
       "      <th>PLAYER_ID</th>\n",
       "      <th>RANK</th>\n",
       "      <th>PLAYER</th>\n",
       "      <th>TEAM</th>\n",
       "      <th>GP</th>\n",
       "      <th>MIN</th>\n",
       "      <th>FGM</th>\n",
       "      <th>FGA</th>\n",
       "      <th>FG_PCT</th>\n",
       "      <th>FG3M</th>\n",
       "      <th>...</th>\n",
       "      <th>REB</th>\n",
       "      <th>AST</th>\n",
       "      <th>STL</th>\n",
       "      <th>BLK</th>\n",
       "      <th>TOV</th>\n",
       "      <th>PF</th>\n",
       "      <th>PTS</th>\n",
       "      <th>EFF</th>\n",
       "      <th>AST_TOV</th>\n",
       "      <th>STL_TOV</th>\n",
       "    </tr>\n",
       "  </thead>\n",
       "  <tbody>\n",
       "    <tr>\n",
       "      <th>0</th>\n",
       "      <td>201942</td>\n",
       "      <td>1</td>\n",
       "      <td>DeMar DeRozan</td>\n",
       "      <td>CHI</td>\n",
       "      <td>75</td>\n",
       "      <td>2713</td>\n",
       "      <td>767</td>\n",
       "      <td>1522</td>\n",
       "      <td>0.504</td>\n",
       "      <td>50</td>\n",
       "      <td>...</td>\n",
       "      <td>391</td>\n",
       "      <td>373</td>\n",
       "      <td>68</td>\n",
       "      <td>24</td>\n",
       "      <td>176</td>\n",
       "      <td>176</td>\n",
       "      <td>2101</td>\n",
       "      <td>1954</td>\n",
       "      <td>2.12</td>\n",
       "      <td>0.39</td>\n",
       "    </tr>\n",
       "    <tr>\n",
       "      <th>1</th>\n",
       "      <td>1629027</td>\n",
       "      <td>2</td>\n",
       "      <td>Trae Young</td>\n",
       "      <td>ATL</td>\n",
       "      <td>74</td>\n",
       "      <td>2582</td>\n",
       "      <td>689</td>\n",
       "      <td>1501</td>\n",
       "      <td>0.459</td>\n",
       "      <td>226</td>\n",
       "      <td>...</td>\n",
       "      <td>277</td>\n",
       "      <td>718</td>\n",
       "      <td>71</td>\n",
       "      <td>7</td>\n",
       "      <td>291</td>\n",
       "      <td>123</td>\n",
       "      <td>2092</td>\n",
       "      <td>2009</td>\n",
       "      <td>2.47</td>\n",
       "      <td>0.24</td>\n",
       "    </tr>\n",
       "    <tr>\n",
       "      <th>2</th>\n",
       "      <td>203954</td>\n",
       "      <td>3</td>\n",
       "      <td>Joel Embiid</td>\n",
       "      <td>PHI</td>\n",
       "      <td>67</td>\n",
       "      <td>2259</td>\n",
       "      <td>652</td>\n",
       "      <td>1317</td>\n",
       "      <td>0.495</td>\n",
       "      <td>91</td>\n",
       "      <td>...</td>\n",
       "      <td>776</td>\n",
       "      <td>280</td>\n",
       "      <td>75</td>\n",
       "      <td>98</td>\n",
       "      <td>209</td>\n",
       "      <td>177</td>\n",
       "      <td>2038</td>\n",
       "      <td>2248</td>\n",
       "      <td>1.34</td>\n",
       "      <td>0.36</td>\n",
       "    </tr>\n",
       "    <tr>\n",
       "      <th>3</th>\n",
       "      <td>1628369</td>\n",
       "      <td>4</td>\n",
       "      <td>Jayson Tatum</td>\n",
       "      <td>BOS</td>\n",
       "      <td>75</td>\n",
       "      <td>2705</td>\n",
       "      <td>697</td>\n",
       "      <td>1550</td>\n",
       "      <td>0.450</td>\n",
       "      <td>224</td>\n",
       "      <td>...</td>\n",
       "      <td>600</td>\n",
       "      <td>331</td>\n",
       "      <td>74</td>\n",
       "      <td>49</td>\n",
       "      <td>212</td>\n",
       "      <td>172</td>\n",
       "      <td>2015</td>\n",
       "      <td>1935</td>\n",
       "      <td>1.56</td>\n",
       "      <td>0.35</td>\n",
       "    </tr>\n",
       "    <tr>\n",
       "      <th>4</th>\n",
       "      <td>203999</td>\n",
       "      <td>5</td>\n",
       "      <td>Nikola Jokic</td>\n",
       "      <td>DEN</td>\n",
       "      <td>74</td>\n",
       "      <td>2476</td>\n",
       "      <td>764</td>\n",
       "      <td>1311</td>\n",
       "      <td>0.583</td>\n",
       "      <td>97</td>\n",
       "      <td>...</td>\n",
       "      <td>1019</td>\n",
       "      <td>584</td>\n",
       "      <td>109</td>\n",
       "      <td>63</td>\n",
       "      <td>281</td>\n",
       "      <td>191</td>\n",
       "      <td>2004</td>\n",
       "      <td>2862</td>\n",
       "      <td>2.08</td>\n",
       "      <td>0.39</td>\n",
       "    </tr>\n",
       "  </tbody>\n",
       "</table>\n",
       "<p>5 rows × 27 columns</p>\n",
       "</div>"
      ],
      "text/plain": [
       "   PLAYER_ID  RANK         PLAYER TEAM  GP   MIN  FGM   FGA  FG_PCT  FG3M  \\\n",
       "0     201942     1  DeMar DeRozan  CHI  75  2713  767  1522   0.504    50   \n",
       "1    1629027     2     Trae Young  ATL  74  2582  689  1501   0.459   226   \n",
       "2     203954     3    Joel Embiid  PHI  67  2259  652  1317   0.495    91   \n",
       "3    1628369     4   Jayson Tatum  BOS  75  2705  697  1550   0.450   224   \n",
       "4     203999     5   Nikola Jokic  DEN  74  2476  764  1311   0.583    97   \n",
       "\n",
       "   ...   REB  AST  STL  BLK  TOV   PF   PTS   EFF  AST_TOV  STL_TOV  \n",
       "0  ...   391  373   68   24  176  176  2101  1954     2.12     0.39  \n",
       "1  ...   277  718   71    7  291  123  2092  2009     2.47     0.24  \n",
       "2  ...   776  280   75   98  209  177  2038  2248     1.34     0.36  \n",
       "3  ...   600  331   74   49  212  172  2015  1935     1.56     0.35  \n",
       "4  ...  1019  584  109   63  281  191  2004  2862     2.08     0.39  \n",
       "\n",
       "[5 rows x 27 columns]"
      ]
     },
     "execution_count": 42,
     "metadata": {},
     "output_type": "execute_result"
    }
   ],
   "source": [
    "ll_df.head()"
   ]
  },
  {
   "cell_type": "code",
   "execution_count": 43,
   "metadata": {},
   "outputs": [
    {
     "name": "stdout",
     "output_type": "stream",
     "text": [
      "(602, 27)\n"
     ]
    },
    {
     "data": {
      "text/plain": [
       "Index(['PLAYER_ID', 'RANK', 'PLAYER', 'TEAM', 'GP', 'MIN', 'FGM', 'FGA',\n",
       "       'FG_PCT', 'FG3M', 'FG3A', 'FG3_PCT', 'FTM', 'FTA', 'FT_PCT', 'OREB',\n",
       "       'DREB', 'REB', 'AST', 'STL', 'BLK', 'TOV', 'PF', 'PTS', 'EFF',\n",
       "       'AST_TOV', 'STL_TOV'],\n",
       "      dtype='object')"
      ]
     },
     "execution_count": 43,
     "metadata": {},
     "output_type": "execute_result"
    }
   ],
   "source": [
    "print(ll_df.shape)\n",
    "ll_df.columns"
   ]
  },
  {
   "cell_type": "code",
   "execution_count": 44,
   "metadata": {},
   "outputs": [],
   "source": [
    "#ll_df.info()"
   ]
  },
  {
   "cell_type": "code",
   "execution_count": 45,
   "metadata": {},
   "outputs": [],
   "source": [
    "## See endpoints\n",
    "#help(endpoints)"
   ]
  },
  {
   "cell_type": "markdown",
   "metadata": {},
   "source": [
    "What are we looking for? Let's import player info from static and test some example unique ID's\n",
    "See bottom of below link for reference on accessing player and team id's\n",
    "https://github.com/swar/nba_api/blob/master/docs/examples/Basics.ipynb"
   ]
  },
  {
   "cell_type": "code",
   "execution_count": 46,
   "metadata": {},
   "outputs": [
    {
     "data": {
      "text/plain": [
       "[{'id': 76001,\n",
       "  'full_name': 'Alaa Abdelnaby',\n",
       "  'first_name': 'Alaa',\n",
       "  'last_name': 'Abdelnaby',\n",
       "  'is_active': False},\n",
       " {'id': 76002,\n",
       "  'full_name': 'Zaid Abdul-Aziz',\n",
       "  'first_name': 'Zaid',\n",
       "  'last_name': 'Abdul-Aziz',\n",
       "  'is_active': False},\n",
       " {'id': 76003,\n",
       "  'full_name': 'Kareem Abdul-Jabbar',\n",
       "  'first_name': 'Kareem',\n",
       "  'last_name': 'Abdul-Jabbar',\n",
       "  'is_active': False}]"
      ]
     },
     "execution_count": 46,
     "metadata": {},
     "output_type": "execute_result"
    }
   ],
   "source": [
    "from nba_api.stats.static import players\n",
    "nba_players = players.get_players()\n",
    "nba_players[:3]"
   ]
  },
  {
   "cell_type": "code",
   "execution_count": 47,
   "metadata": {},
   "outputs": [
    {
     "name": "stdout",
     "output_type": "stream",
     "text": [
      "Kevin info: {'id': 201142, 'full_name': 'Kevin Durant', 'first_name': 'Kevin', 'last_name': 'Durant', 'is_active': True}\n",
      "--------\n"
     ]
    },
    {
     "data": {
      "text/plain": [
       "'Kevin unique ID: 201142'"
      ]
     },
     "execution_count": 47,
     "metadata": {},
     "output_type": "execute_result"
    }
   ],
   "source": [
    "# Find a unique player id for a player by full name\n",
    "# Names are case sensitive\n",
    "# utilise both .format and f string\n",
    "KD = [player for player in nba_players if player['full_name'] == 'Kevin Durant'][0]\n",
    "print('Kevin info: {}'.format(KD))\n",
    "print('--------')\n",
    "KD_ID = KD['id']\n",
    "f'Kevin unique ID: {KD_ID}'"
   ]
  },
  {
   "cell_type": "code",
   "execution_count": 48,
   "metadata": {},
   "outputs": [
    {
     "name": "stdout",
     "output_type": "stream",
     "text": [
      "Number of players fetched: 4723\n"
     ]
    }
   ],
   "source": [
    "print('Number of players fetched: {}'.format(len(nba_players)))"
   ]
  },
  {
   "cell_type": "code",
   "execution_count": 49,
   "metadata": {},
   "outputs": [
    {
     "name": "stdout",
     "output_type": "stream",
     "text": [
      "['foo', 'baz']\n"
     ]
    }
   ],
   "source": [
    "# Example accessing dictionary items matching a condition\n",
    "d = {\"foo\": 1, \"bar\": 2, \"baz\": 1}\n",
    "keys_for_1 = [k for k in d if d[k] == 1]\n",
    "print(keys_for_1)"
   ]
  },
  {
   "cell_type": "markdown",
   "metadata": {},
   "source": [
    "I wanted to see how many players in this list had the last name 'Jordan'. I wondered how many more Jordans there were on top of Michael Jordan and DeAndre Jordan.  \n",
    "\n",
    "I loop through the list of dictionaries for a last name matching 'Jordan'."
   ]
  },
  {
   "cell_type": "code",
   "execution_count": 50,
   "metadata": {},
   "outputs": [
    {
     "name": "stdout",
     "output_type": "stream",
     "text": [
      "There are 8 Jordans in this NBA player list\n"
     ]
    }
   ],
   "source": [
    "how_many_Jordans = 0\n",
    "Jordans_info = []\n",
    "for i in range(len(nba_players)):\n",
    "    if nba_players[i]['last_name'] == 'Jordan':\n",
    "        Jordans_info.append(nba_players[i])\n",
    "        how_many_Jordans += 1\n",
    "print('There are {} Jordans in this NBA player list'.format(how_many_Jordans))"
   ]
  },
  {
   "cell_type": "code",
   "execution_count": 51,
   "metadata": {},
   "outputs": [
    {
     "name": "stdout",
     "output_type": "stream",
     "text": [
      "Adonis Jordan\n",
      "DeAndre Jordan\n",
      "Eddie Jordan\n",
      "Jerome Jordan\n",
      "Michael Jordan\n",
      "Reggie Jordan\n",
      "Thomas Jordan\n",
      "Walter Jordan\n"
     ]
    }
   ],
   "source": [
    "# who are they\n",
    "for Jordan in range(len(Jordans_info)):\n",
    "    print(Jordans_info[Jordan]['full_name'])"
   ]
  },
  {
   "cell_type": "markdown",
   "metadata": {},
   "source": [
    "What about players with the first name 'James'? I knew of James Harden, James Worthy, James Johnson."
   ]
  },
  {
   "cell_type": "code",
   "execution_count": 52,
   "metadata": {},
   "outputs": [
    {
     "name": "stdout",
     "output_type": "stream",
     "text": [
      "There are 31 players with the first name of James\n"
     ]
    }
   ],
   "source": [
    "how_many_Jameses = 0\n",
    "James_info = []\n",
    "for i in range(len(nba_players)):\n",
    "    if nba_players[i]['first_name'] == 'James':\n",
    "        James_info.append(nba_players[i])\n",
    "        how_many_Jameses += 1\n",
    "print('There are {} players with the first name of James'.format(how_many_Jameses))"
   ]
  },
  {
   "cell_type": "code",
   "execution_count": 53,
   "metadata": {},
   "outputs": [
    {
     "name": "stdout",
     "output_type": "stream",
     "text": [
      "James Anderson\n",
      "James Augustine\n",
      "James Bailey\n",
      "James Blackwell\n",
      "James Bouknight\n",
      "James Collins\n",
      "James Cotton\n",
      "James Davis\n",
      "James Donaldson\n",
      "James Edwards\n",
      "James Ennis III\n",
      "James Harden\n",
      "James Hardy\n",
      "James Johnson\n",
      "James Jones\n",
      "James Lang\n",
      "James Nunnally\n",
      "James Owens\n",
      "James Posey\n",
      "James Robinson\n",
      "James Scott\n",
      "James Silas\n",
      "James Singleton\n",
      "James Southerland\n",
      "James Thomas\n",
      "James Webb III\n",
      "James White\n",
      "James Wilkes\n",
      "James Wiseman\n",
      "James Worthy\n",
      "James Young\n"
     ]
    }
   ],
   "source": [
    "for James in range(len(James_info)):\n",
    "    print(James_info[James]['full_name'])"
   ]
  },
  {
   "cell_type": "code",
   "execution_count": 54,
   "metadata": {},
   "outputs": [
    {
     "name": "stdout",
     "output_type": "stream",
     "text": [
      "There are 30 teams in this list of dictionaries of NBA teams.\n"
     ]
    }
   ],
   "source": [
    "# team Ids\n",
    "from nba_api.stats.static import teams \n",
    "NBA_teams = teams.get_teams()\n",
    "print('There are {} teams in this list of dictionaries of NBA teams.'.format(len(NBA_teams)))"
   ]
  },
  {
   "cell_type": "code",
   "execution_count": 55,
   "metadata": {},
   "outputs": [
    {
     "data": {
      "text/plain": [
       "1610612744"
      ]
     },
     "execution_count": 55,
     "metadata": {},
     "output_type": "execute_result"
    }
   ],
   "source": [
    "# Golden State Warriors team id\n",
    "GSW = [x for x in NBA_teams if x['full_name'] == 'Golden State Warriors'][0]\n",
    "GSW_ID = GSW['id']\n",
    "GSW_ID"
   ]
  },
  {
   "cell_type": "code",
   "execution_count": 56,
   "metadata": {},
   "outputs": [
    {
     "data": {
      "text/plain": [
       "{'id': 1610612744,\n",
       " 'full_name': 'Golden State Warriors',\n",
       " 'abbreviation': 'GSW',\n",
       " 'nickname': 'Warriors',\n",
       " 'city': 'Golden State',\n",
       " 'state': 'California',\n",
       " 'year_founded': 1946}"
      ]
     },
     "execution_count": 56,
     "metadata": {},
     "output_type": "execute_result"
    }
   ],
   "source": [
    "GSW"
   ]
  },
  {
   "cell_type": "markdown",
   "metadata": {},
   "source": [
    "We want player id and team id so we can extract other data. \n",
    "Let's have a look at Kevin Durant (my favourite player!) and the fan favourite GSW.\n",
    "From earlier:"
   ]
  },
  {
   "cell_type": "code",
   "execution_count": 57,
   "metadata": {},
   "outputs": [
    {
     "name": "stdout",
     "output_type": "stream",
     "text": [
      "201142\n",
      "1610612744\n"
     ]
    }
   ],
   "source": [
    "print(KD_ID)\n",
    "print(GSW_ID)"
   ]
  },
  {
   "cell_type": "code",
   "execution_count": 58,
   "metadata": {},
   "outputs": [],
   "source": [
    "from nba_api.stats.endpoints import playercareerstats"
   ]
  },
  {
   "cell_type": "code",
   "execution_count": 59,
   "metadata": {},
   "outputs": [
    {
     "data": {
      "text/html": [
       "<div>\n",
       "<style scoped>\n",
       "    .dataframe tbody tr th:only-of-type {\n",
       "        vertical-align: middle;\n",
       "    }\n",
       "\n",
       "    .dataframe tbody tr th {\n",
       "        vertical-align: top;\n",
       "    }\n",
       "\n",
       "    .dataframe thead th {\n",
       "        text-align: right;\n",
       "    }\n",
       "</style>\n",
       "<table border=\"1\" class=\"dataframe\">\n",
       "  <thead>\n",
       "    <tr style=\"text-align: right;\">\n",
       "      <th></th>\n",
       "      <th>PLAYER_ID</th>\n",
       "      <th>SEASON_ID</th>\n",
       "      <th>LEAGUE_ID</th>\n",
       "      <th>TEAM_ID</th>\n",
       "      <th>TEAM_ABBREVIATION</th>\n",
       "      <th>PLAYER_AGE</th>\n",
       "      <th>GP</th>\n",
       "      <th>GS</th>\n",
       "      <th>MIN</th>\n",
       "      <th>FGM</th>\n",
       "      <th>...</th>\n",
       "      <th>FT_PCT</th>\n",
       "      <th>OREB</th>\n",
       "      <th>DREB</th>\n",
       "      <th>REB</th>\n",
       "      <th>AST</th>\n",
       "      <th>STL</th>\n",
       "      <th>BLK</th>\n",
       "      <th>TOV</th>\n",
       "      <th>PF</th>\n",
       "      <th>PTS</th>\n",
       "    </tr>\n",
       "  </thead>\n",
       "  <tbody>\n",
       "    <tr>\n",
       "      <th>0</th>\n",
       "      <td>201142</td>\n",
       "      <td>2007-08</td>\n",
       "      <td>00</td>\n",
       "      <td>1610612760</td>\n",
       "      <td>SEA</td>\n",
       "      <td>19.0</td>\n",
       "      <td>80</td>\n",
       "      <td>80</td>\n",
       "      <td>2768.0</td>\n",
       "      <td>587</td>\n",
       "      <td>...</td>\n",
       "      <td>0.873</td>\n",
       "      <td>70</td>\n",
       "      <td>278</td>\n",
       "      <td>348</td>\n",
       "      <td>192</td>\n",
       "      <td>78</td>\n",
       "      <td>75</td>\n",
       "      <td>232</td>\n",
       "      <td>122</td>\n",
       "      <td>1624</td>\n",
       "    </tr>\n",
       "    <tr>\n",
       "      <th>1</th>\n",
       "      <td>201142</td>\n",
       "      <td>2008-09</td>\n",
       "      <td>00</td>\n",
       "      <td>1610612760</td>\n",
       "      <td>OKC</td>\n",
       "      <td>20.0</td>\n",
       "      <td>74</td>\n",
       "      <td>74</td>\n",
       "      <td>2885.0</td>\n",
       "      <td>661</td>\n",
       "      <td>...</td>\n",
       "      <td>0.863</td>\n",
       "      <td>77</td>\n",
       "      <td>405</td>\n",
       "      <td>482</td>\n",
       "      <td>205</td>\n",
       "      <td>96</td>\n",
       "      <td>53</td>\n",
       "      <td>225</td>\n",
       "      <td>134</td>\n",
       "      <td>1871</td>\n",
       "    </tr>\n",
       "    <tr>\n",
       "      <th>2</th>\n",
       "      <td>201142</td>\n",
       "      <td>2009-10</td>\n",
       "      <td>00</td>\n",
       "      <td>1610612760</td>\n",
       "      <td>OKC</td>\n",
       "      <td>21.0</td>\n",
       "      <td>82</td>\n",
       "      <td>82</td>\n",
       "      <td>3239.0</td>\n",
       "      <td>794</td>\n",
       "      <td>...</td>\n",
       "      <td>0.900</td>\n",
       "      <td>105</td>\n",
       "      <td>518</td>\n",
       "      <td>623</td>\n",
       "      <td>231</td>\n",
       "      <td>112</td>\n",
       "      <td>84</td>\n",
       "      <td>271</td>\n",
       "      <td>171</td>\n",
       "      <td>2472</td>\n",
       "    </tr>\n",
       "    <tr>\n",
       "      <th>3</th>\n",
       "      <td>201142</td>\n",
       "      <td>2010-11</td>\n",
       "      <td>00</td>\n",
       "      <td>1610612760</td>\n",
       "      <td>OKC</td>\n",
       "      <td>22.0</td>\n",
       "      <td>78</td>\n",
       "      <td>78</td>\n",
       "      <td>3038.0</td>\n",
       "      <td>711</td>\n",
       "      <td>...</td>\n",
       "      <td>0.880</td>\n",
       "      <td>57</td>\n",
       "      <td>476</td>\n",
       "      <td>533</td>\n",
       "      <td>214</td>\n",
       "      <td>88</td>\n",
       "      <td>76</td>\n",
       "      <td>218</td>\n",
       "      <td>159</td>\n",
       "      <td>2161</td>\n",
       "    </tr>\n",
       "    <tr>\n",
       "      <th>4</th>\n",
       "      <td>201142</td>\n",
       "      <td>2011-12</td>\n",
       "      <td>00</td>\n",
       "      <td>1610612760</td>\n",
       "      <td>OKC</td>\n",
       "      <td>23.0</td>\n",
       "      <td>66</td>\n",
       "      <td>66</td>\n",
       "      <td>2546.0</td>\n",
       "      <td>643</td>\n",
       "      <td>...</td>\n",
       "      <td>0.860</td>\n",
       "      <td>40</td>\n",
       "      <td>487</td>\n",
       "      <td>527</td>\n",
       "      <td>231</td>\n",
       "      <td>88</td>\n",
       "      <td>77</td>\n",
       "      <td>248</td>\n",
       "      <td>133</td>\n",
       "      <td>1850</td>\n",
       "    </tr>\n",
       "  </tbody>\n",
       "</table>\n",
       "<p>5 rows × 27 columns</p>\n",
       "</div>"
      ],
      "text/plain": [
       "   PLAYER_ID SEASON_ID LEAGUE_ID     TEAM_ID TEAM_ABBREVIATION  PLAYER_AGE  \\\n",
       "0     201142   2007-08        00  1610612760               SEA        19.0   \n",
       "1     201142   2008-09        00  1610612760               OKC        20.0   \n",
       "2     201142   2009-10        00  1610612760               OKC        21.0   \n",
       "3     201142   2010-11        00  1610612760               OKC        22.0   \n",
       "4     201142   2011-12        00  1610612760               OKC        23.0   \n",
       "\n",
       "   GP  GS     MIN  FGM  ...  FT_PCT  OREB  DREB  REB  AST  STL  BLK  TOV   PF  \\\n",
       "0  80  80  2768.0  587  ...   0.873    70   278  348  192   78   75  232  122   \n",
       "1  74  74  2885.0  661  ...   0.863    77   405  482  205   96   53  225  134   \n",
       "2  82  82  3239.0  794  ...   0.900   105   518  623  231  112   84  271  171   \n",
       "3  78  78  3038.0  711  ...   0.880    57   476  533  214   88   76  218  159   \n",
       "4  66  66  2546.0  643  ...   0.860    40   487  527  231   88   77  248  133   \n",
       "\n",
       "    PTS  \n",
       "0  1624  \n",
       "1  1871  \n",
       "2  2472  \n",
       "3  2161  \n",
       "4  1850  \n",
       "\n",
       "[5 rows x 27 columns]"
      ]
     },
     "execution_count": 59,
     "metadata": {},
     "output_type": "execute_result"
    }
   ],
   "source": [
    "# Kevin Durant\n",
    "KD_career = playercareerstats.PlayerCareerStats(player_id=str(KD_ID))\n",
    "KD_yby = KD_career.get_data_frames()[0]\n",
    "KD_yby.head()"
   ]
  },
  {
   "cell_type": "code",
   "execution_count": 60,
   "metadata": {},
   "outputs": [
    {
     "data": {
      "image/png": "[encoded data removed]",
      "text/plain": [
       "<Figure size 432x288 with 1 Axes>"
      ]
     },
     "metadata": {
      "needs_background": "light"
     },
     "output_type": "display_data"
    }
   ],
   "source": [
    "fig, ax = plt.subplots()\n",
    "ax.bar(KD_yby['SEASON_ID'], KD_yby['FGM'])\n",
    "\n",
    "ax.set(xlabel='Season', ylabel='FGM',\n",
    "       title='Simple plot FGM')\n",
    "plt.xticks(rotation=90)\n",
    "ax.grid(False)"
   ]
  },
  {
   "cell_type": "markdown",
   "metadata": {},
   "source": [
    "A quick look at the chart shows 2013-2014 as the highest FGM made, followed by 2014-2015 as the lowest. \n",
    "A quick google shows that Durant won the MVP (most valuable player) in 2013-2014 season and was then injured in the 2014-2015 season (only playing 27 games, hence leading to lower FGM). \n",
    "<br><br>Perhaps this is better shown including games played. Although I'm not a huge fan of plots sharing axes, this shows the correltaion between FGM and Games Played."
   ]
  },
  {
   "cell_type": "code",
   "execution_count": 101,
   "metadata": {},
   "outputs": [
    {
     "data": {
      "image/png": "[encoded data removed]",
      "text/plain": [
       "<Figure size 432x288 with 2 Axes>"
      ]
     },
     "metadata": {
      "needs_background": "light"
     },
     "output_type": "display_data"
    }
   ],
   "source": [
    "fig, ax = plt.subplots()\n",
    "\n",
    "\n",
    "width = 0.3\n",
    "\n",
    "ax.bar(KD_yby['SEASON_ID'], KD_yby['FGM'], label='FGM')\n",
    "ax.set(xlabel='Season', ylabel='Field Goals Made',\n",
    "       title='Dual Axis plot FGM and GP, Kevin Durant Career')\n",
    "plt.xticks(rotation=90)\n",
    "ax.grid(False)\n",
    "\n",
    "ax2=ax.twinx()\n",
    "# make a plot with different y-axis using second axis object\n",
    "ax2.bar(KD_yby['SEASON_ID'], KD_yby['GP'],color='orange', label = 'GP', width = width)\n",
    "ax2.set_ylabel(\"Games Played\")\n",
    "\n",
    "ax.legend(loc = 'upper right')\n",
    "ax2.legend(loc = 'upper left')\n",
    "\n",
    "plt.show()"
   ]
  },
  {
   "cell_type": "markdown",
   "metadata": {},
   "source": [
    "A few things make sense. In his first season, he played a lot of games but took less shots, expected of a rookie/younger player new into the NBA. Even so, he won rookie of the year (best new player into the NBA). His shots generally increased in the early years, while the number of games remained relatively similar until MVP in 2013-2014 (a dip in 11/12 with slightly less GP/FGM). Season 14/15 and 20/21 show less GP and therefore less FGM due to injury. Overall, he has played less games in his later years compared to his early years in the NBA. Knowing that he also missed games in 2021-2022 due to injury again. It will be interesting to monitor this in the coming years. "
   ]
  },
  {
   "cell_type": "code",
   "execution_count": 105,
   "metadata": {},
   "outputs": [
    {
     "data": {
      "image/png": "[encoded data removed]",
      "text/plain": [
       "<Figure size 432x288 with 1 Axes>"
      ]
     },
     "metadata": {
      "needs_background": "light"
     },
     "output_type": "display_data"
    }
   ],
   "source": [
    "fig, ax = plt.subplots()\n",
    "ax.bar(KD_yby['SEASON_ID'], KD_yby['FG_PCT'])\n",
    "\n",
    "ax.set(xlabel='Season', ylabel='FGM',\n",
    "       title='Simple plot FG%')\n",
    "plt.xticks(rotation=90)\n",
    "ax.grid(False)"
   ]
  },
  {
   "cell_type": "markdown",
   "metadata": {},
   "source": [
    "Impressivley, KD's FG% shows an increasing trend season on season. Perhaps this is better seen in a line chart. "
   ]
  },
  {
   "cell_type": "code",
   "execution_count": 106,
   "metadata": {},
   "outputs": [
    {
     "data": {
      "image/png": "[encoded data removed]",
      "text/plain": [
       "<Figure size 432x288 with 1 Axes>"
      ]
     },
     "metadata": {
      "needs_background": "light"
     },
     "output_type": "display_data"
    }
   ],
   "source": [
    "fig, ax = plt.subplots()\n",
    "ax.plot(KD_yby['SEASON_ID'], KD_yby['FG_PCT'])\n",
    "\n",
    "ax.set(xlabel='Season', ylabel='FGM',\n",
    "       title='Simple plot FG%')\n",
    "plt.xticks(rotation=90)\n",
    "ax.grid(False)"
   ]
  },
  {
   "cell_type": "code",
   "execution_count": null,
   "metadata": {},
   "outputs": [],
   "source": []
  },
  {
   "cell_type": "code",
   "execution_count": null,
   "metadata": {},
   "outputs": [],
   "source": []
  }
 ],
 "metadata": {
  "kernelspec": {
   "display_name": "Python 3",
   "language": "python",
   "name": "python3"
  },
  "language_info": {
   "codemirror_mode": {
    "name": "ipython",
    "version": 3
   },
   "file_extension": ".py",
   "mimetype": "text/x-python",
   "name": "python",
   "nbconvert_exporter": "python",
   "pygments_lexer": "ipython3",
   "version": "3.8.5"
  }
 },
 "nbformat": 4,
 "nbformat_minor": 4
}
