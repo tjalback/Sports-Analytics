{
 "cells": [
  {
   "cell_type": "markdown",
   "metadata": {},
   "source": [
    "## Sports Analytics Notebook\n",
    "#### by Trevor Alback started 1/4/2022\n",
    "#### last update 29/12/2022"
   ]
  },
  {
   "cell_type": "code",
   "execution_count": 1,
   "metadata": {},
   "outputs": [
    {
     "name": "stdout",
     "output_type": "stream",
     "text": [
      "{\"message\":\"You are not subscribed to this API.\"}\n"
     ]
    }
   ],
   "source": [
    "# This NBA api is somewhat free, if you sign up, you can get free calls, but not to all data.\n",
    "# Below is the set-up, just replace the key if you sign up. Below I access a python nba package\n",
    "\n",
    "import http.client\n",
    "\n",
    "conn = http.client.HTTPSConnection(\"api-nba-v1.p.rapidapi.com\")\n",
    "\n",
    "headers = {\n",
    "    'X-RapidAPI-Host': \"api-nba-v1.p.rapidapi.com\",\n",
    "    'X-RapidAPI-Key': \"a77dba0749mshc84499458a980c3p12cfbcjsn2aee80739e7e\"\n",
    "    }\n",
    "\n",
    "conn.request(\"GET\", \"/seasons\", headers=headers)\n",
    "\n",
    "res = conn.getresponse()\n",
    "data = res.read()\n",
    "\n",
    "print(data.decode(\"utf-8\"))"
   ]
  },
  {
   "cell_type": "code",
   "execution_count": 2,
   "metadata": {},
   "outputs": [],
   "source": [
    "## There is an nba_api package which is an api client to get data from nba.com\n",
    "## https://pypi.org/project/nba-api/"
   ]
  },
  {
   "cell_type": "code",
   "execution_count": 3,
   "metadata": {},
   "outputs": [],
   "source": [
    "# pip install the package to access the libraries\n",
    "# pip install nba_api"
   ]
  },
  {
   "cell_type": "code",
   "execution_count": 4,
   "metadata": {},
   "outputs": [],
   "source": [
    "import pandas as pd\n",
    "import numpy as np\n",
    "from sklearn import linear_model\n",
    "import requests\n",
    "from nba_api.stats import endpoints\n",
    "from matplotlib import pyplot as plt"
   ]
  },
  {
   "cell_type": "code",
   "execution_count": 5,
   "metadata": {},
   "outputs": [],
   "source": [
    "# Example data extract below: find league leaders\n",
    "# Access leagueleaders module through endpoints & assign the class to \"data\"\n",
    "data = endpoints.leagueleaders.LeagueLeaders() \n",
    "\n",
    "# Create a league leaders data frame (ll_df) using \"data\" variable and its built in functions\n",
    "ll_df = data.league_leaders.get_data_frame()"
   ]
  },
  {
   "cell_type": "code",
   "execution_count": 6,
   "metadata": {},
   "outputs": [
    {
     "data": {
      "text/html": [
       "<div>\n",
       "<style scoped>\n",
       "    .dataframe tbody tr th:only-of-type {\n",
       "        vertical-align: middle;\n",
       "    }\n",
       "\n",
       "    .dataframe tbody tr th {\n",
       "        vertical-align: top;\n",
       "    }\n",
       "\n",
       "    .dataframe thead th {\n",
       "        text-align: right;\n",
       "    }\n",
       "</style>\n",
       "<table border=\"1\" class=\"dataframe\">\n",
       "  <thead>\n",
       "    <tr style=\"text-align: right;\">\n",
       "      <th></th>\n",
       "      <th>PLAYER_ID</th>\n",
       "      <th>RANK</th>\n",
       "      <th>PLAYER</th>\n",
       "      <th>TEAM_ID</th>\n",
       "      <th>TEAM</th>\n",
       "      <th>GP</th>\n",
       "      <th>MIN</th>\n",
       "      <th>FGM</th>\n",
       "      <th>FGA</th>\n",
       "      <th>FG_PCT</th>\n",
       "      <th>...</th>\n",
       "      <th>REB</th>\n",
       "      <th>AST</th>\n",
       "      <th>STL</th>\n",
       "      <th>BLK</th>\n",
       "      <th>TOV</th>\n",
       "      <th>PF</th>\n",
       "      <th>PTS</th>\n",
       "      <th>EFF</th>\n",
       "      <th>AST_TOV</th>\n",
       "      <th>STL_TOV</th>\n",
       "    </tr>\n",
       "  </thead>\n",
       "  <tbody>\n",
       "    <tr>\n",
       "      <th>0</th>\n",
       "      <td>1629029</td>\n",
       "      <td>1</td>\n",
       "      <td>Luka Doncic</td>\n",
       "      <td>1610612742</td>\n",
       "      <td>DAL</td>\n",
       "      <td>32</td>\n",
       "      <td>1183</td>\n",
       "      <td>365</td>\n",
       "      <td>721</td>\n",
       "      <td>0.506</td>\n",
       "      <td>...</td>\n",
       "      <td>278</td>\n",
       "      <td>280</td>\n",
       "      <td>54</td>\n",
       "      <td>18</td>\n",
       "      <td>120</td>\n",
       "      <td>94</td>\n",
       "      <td>1076</td>\n",
       "      <td>1141</td>\n",
       "      <td>2.33</td>\n",
       "      <td>0.45</td>\n",
       "    </tr>\n",
       "    <tr>\n",
       "      <th>1</th>\n",
       "      <td>1628369</td>\n",
       "      <td>2</td>\n",
       "      <td>Jayson Tatum</td>\n",
       "      <td>1610612738</td>\n",
       "      <td>BOS</td>\n",
       "      <td>33</td>\n",
       "      <td>1220</td>\n",
       "      <td>337</td>\n",
       "      <td>707</td>\n",
       "      <td>0.477</td>\n",
       "      <td>...</td>\n",
       "      <td>266</td>\n",
       "      <td>136</td>\n",
       "      <td>39</td>\n",
       "      <td>29</td>\n",
       "      <td>88</td>\n",
       "      <td>71</td>\n",
       "      <td>1026</td>\n",
       "      <td>1001</td>\n",
       "      <td>1.54</td>\n",
       "      <td>0.44</td>\n",
       "    </tr>\n",
       "    <tr>\n",
       "      <th>2</th>\n",
       "      <td>201142</td>\n",
       "      <td>3</td>\n",
       "      <td>Kevin Durant</td>\n",
       "      <td>1610612751</td>\n",
       "      <td>BKN</td>\n",
       "      <td>34</td>\n",
       "      <td>1238</td>\n",
       "      <td>362</td>\n",
       "      <td>646</td>\n",
       "      <td>0.560</td>\n",
       "      <td>...</td>\n",
       "      <td>235</td>\n",
       "      <td>182</td>\n",
       "      <td>27</td>\n",
       "      <td>52</td>\n",
       "      <td>120</td>\n",
       "      <td>84</td>\n",
       "      <td>1016</td>\n",
       "      <td>1090</td>\n",
       "      <td>1.52</td>\n",
       "      <td>0.23</td>\n",
       "    </tr>\n",
       "    <tr>\n",
       "      <th>3</th>\n",
       "      <td>1628983</td>\n",
       "      <td>4</td>\n",
       "      <td>Shai Gilgeous-Alexander</td>\n",
       "      <td>1610612760</td>\n",
       "      <td>OKC</td>\n",
       "      <td>31</td>\n",
       "      <td>1111</td>\n",
       "      <td>325</td>\n",
       "      <td>643</td>\n",
       "      <td>0.505</td>\n",
       "      <td>...</td>\n",
       "      <td>151</td>\n",
       "      <td>180</td>\n",
       "      <td>53</td>\n",
       "      <td>34</td>\n",
       "      <td>105</td>\n",
       "      <td>81</td>\n",
       "      <td>976</td>\n",
       "      <td>947</td>\n",
       "      <td>1.71</td>\n",
       "      <td>0.51</td>\n",
       "    </tr>\n",
       "    <tr>\n",
       "      <th>4</th>\n",
       "      <td>203507</td>\n",
       "      <td>5</td>\n",
       "      <td>Giannis Antetokounmpo</td>\n",
       "      <td>1610612749</td>\n",
       "      <td>MIL</td>\n",
       "      <td>29</td>\n",
       "      <td>973</td>\n",
       "      <td>330</td>\n",
       "      <td>623</td>\n",
       "      <td>0.530</td>\n",
       "      <td>...</td>\n",
       "      <td>335</td>\n",
       "      <td>150</td>\n",
       "      <td>25</td>\n",
       "      <td>26</td>\n",
       "      <td>110</td>\n",
       "      <td>105</td>\n",
       "      <td>919</td>\n",
       "      <td>921</td>\n",
       "      <td>1.36</td>\n",
       "      <td>0.23</td>\n",
       "    </tr>\n",
       "  </tbody>\n",
       "</table>\n",
       "<p>5 rows × 28 columns</p>\n",
       "</div>"
      ],
      "text/plain": [
       "   PLAYER_ID  RANK                   PLAYER     TEAM_ID TEAM  GP   MIN  FGM  \\\n",
       "0    1629029     1              Luka Doncic  1610612742  DAL  32  1183  365   \n",
       "1    1628369     2             Jayson Tatum  1610612738  BOS  33  1220  337   \n",
       "2     201142     3             Kevin Durant  1610612751  BKN  34  1238  362   \n",
       "3    1628983     4  Shai Gilgeous-Alexander  1610612760  OKC  31  1111  325   \n",
       "4     203507     5    Giannis Antetokounmpo  1610612749  MIL  29   973  330   \n",
       "\n",
       "   FGA  FG_PCT  ...  REB  AST  STL  BLK  TOV   PF   PTS   EFF  AST_TOV  \\\n",
       "0  721   0.506  ...  278  280   54   18  120   94  1076  1141     2.33   \n",
       "1  707   0.477  ...  266  136   39   29   88   71  1026  1001     1.54   \n",
       "2  646   0.560  ...  235  182   27   52  120   84  1016  1090     1.52   \n",
       "3  643   0.505  ...  151  180   53   34  105   81   976   947     1.71   \n",
       "4  623   0.530  ...  335  150   25   26  110  105   919   921     1.36   \n",
       "\n",
       "   STL_TOV  \n",
       "0     0.45  \n",
       "1     0.44  \n",
       "2     0.23  \n",
       "3     0.51  \n",
       "4     0.23  \n",
       "\n",
       "[5 rows x 28 columns]"
      ]
     },
     "execution_count": 6,
     "metadata": {},
     "output_type": "execute_result"
    }
   ],
   "source": [
    "ll_df.head()"
   ]
  },
  {
   "cell_type": "code",
   "execution_count": 7,
   "metadata": {},
   "outputs": [
    {
     "name": "stdout",
     "output_type": "stream",
     "text": [
      "(489, 28)\n"
     ]
    },
    {
     "data": {
      "text/plain": [
       "Index(['PLAYER_ID', 'RANK', 'PLAYER', 'TEAM_ID', 'TEAM', 'GP', 'MIN', 'FGM',\n",
       "       'FGA', 'FG_PCT', 'FG3M', 'FG3A', 'FG3_PCT', 'FTM', 'FTA', 'FT_PCT',\n",
       "       'OREB', 'DREB', 'REB', 'AST', 'STL', 'BLK', 'TOV', 'PF', 'PTS', 'EFF',\n",
       "       'AST_TOV', 'STL_TOV'],\n",
       "      dtype='object')"
      ]
     },
     "execution_count": 7,
     "metadata": {},
     "output_type": "execute_result"
    }
   ],
   "source": [
    "print(ll_df.shape)\n",
    "ll_df.columns"
   ]
  },
  {
   "cell_type": "code",
   "execution_count": 8,
   "metadata": {},
   "outputs": [],
   "source": [
    "#ll_df.info()"
   ]
  },
  {
   "cell_type": "code",
   "execution_count": 9,
   "metadata": {},
   "outputs": [],
   "source": [
    "## See endpoints\n",
    "#help(endpoints)"
   ]
  },
  {
   "cell_type": "markdown",
   "metadata": {},
   "source": [
    "What are we looking for? Let's import player info from static and test some example unique ID's\n",
    "See bottom of below link for reference on accessing player and team id's\n",
    "https://github.com/swar/nba_api/blob/master/docs/examples/Basics.ipynb"
   ]
  },
  {
   "cell_type": "code",
   "execution_count": 10,
   "metadata": {},
   "outputs": [
    {
     "data": {
      "text/plain": [
       "[{'id': 76001,\n",
       "  'full_name': 'Alaa Abdelnaby',\n",
       "  'first_name': 'Alaa',\n",
       "  'last_name': 'Abdelnaby',\n",
       "  'is_active': False},\n",
       " {'id': 76002,\n",
       "  'full_name': 'Zaid Abdul-Aziz',\n",
       "  'first_name': 'Zaid',\n",
       "  'last_name': 'Abdul-Aziz',\n",
       "  'is_active': False},\n",
       " {'id': 76003,\n",
       "  'full_name': 'Kareem Abdul-Jabbar',\n",
       "  'first_name': 'Kareem',\n",
       "  'last_name': 'Abdul-Jabbar',\n",
       "  'is_active': False}]"
      ]
     },
     "execution_count": 10,
     "metadata": {},
     "output_type": "execute_result"
    }
   ],
   "source": [
    "from nba_api.stats.static import players\n",
    "nba_players = players.get_players()\n",
    "nba_players[:3]"
   ]
  },
  {
   "cell_type": "code",
   "execution_count": 11,
   "metadata": {},
   "outputs": [
    {
     "name": "stdout",
     "output_type": "stream",
     "text": [
      "Kevin info: {'id': 201142, 'full_name': 'Kevin Durant', 'first_name': 'Kevin', 'last_name': 'Durant', 'is_active': True}\n",
      "--------\n"
     ]
    },
    {
     "data": {
      "text/plain": [
       "'Kevin unique ID: 201142'"
      ]
     },
     "execution_count": 11,
     "metadata": {},
     "output_type": "execute_result"
    }
   ],
   "source": [
    "# Find a unique player id for a player by full name\n",
    "# Names are case sensitive\n",
    "# utilise both .format and f string for the text visual output\n",
    "KD = [player for player in nba_players if player['full_name'] == 'Kevin Durant'][0]\n",
    "print('Kevin info: {}'.format(KD))\n",
    "print('--------')\n",
    "KD_ID = KD['id']\n",
    "f'Kevin unique ID: {KD_ID}'"
   ]
  },
  {
   "cell_type": "code",
   "execution_count": 12,
   "metadata": {},
   "outputs": [
    {
     "name": "stdout",
     "output_type": "stream",
     "text": [
      "Number of players fetched: 4723\n"
     ]
    }
   ],
   "source": [
    "print('Number of players fetched: {}'.format(len(nba_players)))"
   ]
  },
  {
   "cell_type": "code",
   "execution_count": 13,
   "metadata": {},
   "outputs": [
    {
     "name": "stdout",
     "output_type": "stream",
     "text": [
      "['foo', 'baz']\n"
     ]
    }
   ],
   "source": [
    "# Example accessing dictionary items matching a condition\n",
    "d = {\"foo\": 1, \"bar\": 2, \"baz\": 1}\n",
    "keys_for_1 = [k for k in d if d[k] == 1]\n",
    "print(keys_for_1)"
   ]
  },
  {
   "cell_type": "markdown",
   "metadata": {},
   "source": [
    "I wanted to see how many players in this list had the last name 'Jordan'. I wondered how many more 'Jordans' there were on top of Michael Jordan and DeAndre Jordan.  \n",
    "\n",
    "I loop through the list of dictionaries for a last name matching 'Jordan'."
   ]
  },
  {
   "cell_type": "code",
   "execution_count": 14,
   "metadata": {},
   "outputs": [
    {
     "name": "stdout",
     "output_type": "stream",
     "text": [
      "There are 8 Jordans in this NBA player list\n"
     ]
    }
   ],
   "source": [
    "how_many_Jordans = 0\n",
    "Jordans_info = []\n",
    "for i in range(len(nba_players)):\n",
    "    if nba_players[i]['last_name'] == 'Jordan':\n",
    "        Jordans_info.append(nba_players[i])\n",
    "        how_many_Jordans += 1\n",
    "print('There are {} Jordans in this NBA player list'.format(how_many_Jordans))"
   ]
  },
  {
   "cell_type": "code",
   "execution_count": 15,
   "metadata": {},
   "outputs": [
    {
     "name": "stdout",
     "output_type": "stream",
     "text": [
      "Adonis Jordan\n",
      "DeAndre Jordan\n",
      "Eddie Jordan\n",
      "Jerome Jordan\n",
      "Michael Jordan\n",
      "Reggie Jordan\n",
      "Thomas Jordan\n",
      "Walter Jordan\n"
     ]
    }
   ],
   "source": [
    "# who are they\n",
    "for Jordan in range(len(Jordans_info)):\n",
    "    print(Jordans_info[Jordan]['full_name'])"
   ]
  },
  {
   "cell_type": "markdown",
   "metadata": {},
   "source": [
    "What about players with the first name 'James'? I knew of James Harden, James Worthy, James Johnson."
   ]
  },
  {
   "cell_type": "code",
   "execution_count": 16,
   "metadata": {},
   "outputs": [
    {
     "name": "stdout",
     "output_type": "stream",
     "text": [
      "There are 31 players with the first name of James\n"
     ]
    }
   ],
   "source": [
    "how_many_Jameses = 0\n",
    "James_info = []\n",
    "for i in range(len(nba_players)):\n",
    "    if nba_players[i]['first_name'] == 'James':\n",
    "        James_info.append(nba_players[i])\n",
    "        how_many_Jameses += 1\n",
    "print('There are {} players with the first name of James'.format(how_many_Jameses))"
   ]
  },
  {
   "cell_type": "code",
   "execution_count": 17,
   "metadata": {},
   "outputs": [
    {
     "name": "stdout",
     "output_type": "stream",
     "text": [
      "James Anderson\n",
      "James Augustine\n",
      "James Bailey\n",
      "James Blackwell\n",
      "James Bouknight\n",
      "James Collins\n",
      "James Cotton\n",
      "James Davis\n",
      "James Donaldson\n",
      "James Edwards\n",
      "James Ennis III\n",
      "James Harden\n",
      "James Hardy\n",
      "James Johnson\n",
      "James Jones\n",
      "James Lang\n",
      "James Nunnally\n",
      "James Owens\n",
      "James Posey\n",
      "James Robinson\n",
      "James Scott\n",
      "James Silas\n",
      "James Singleton\n",
      "James Southerland\n",
      "James Thomas\n",
      "James Webb III\n",
      "James White\n",
      "James Wilkes\n",
      "James Wiseman\n",
      "James Worthy\n",
      "James Young\n"
     ]
    }
   ],
   "source": [
    "for James in range(len(James_info)):\n",
    "    print(James_info[James]['full_name'])"
   ]
  },
  {
   "cell_type": "code",
   "execution_count": 18,
   "metadata": {},
   "outputs": [
    {
     "name": "stdout",
     "output_type": "stream",
     "text": [
      "There are 30 teams in this list of dictionaries of NBA teams.\n"
     ]
    }
   ],
   "source": [
    "# team Ids\n",
    "from nba_api.stats.static import teams \n",
    "NBA_teams = teams.get_teams()\n",
    "print('There are {} teams in this list of dictionaries of NBA teams.'.format(len(NBA_teams)))"
   ]
  },
  {
   "cell_type": "code",
   "execution_count": 19,
   "metadata": {},
   "outputs": [
    {
     "data": {
      "text/plain": [
       "1610612744"
      ]
     },
     "execution_count": 19,
     "metadata": {},
     "output_type": "execute_result"
    }
   ],
   "source": [
    "# Golden State Warriors team id\n",
    "GSW = [x for x in NBA_teams if x['full_name'] == 'Golden State Warriors'][0]\n",
    "GSW_ID = GSW['id']\n",
    "GSW_ID"
   ]
  },
  {
   "cell_type": "code",
   "execution_count": 20,
   "metadata": {},
   "outputs": [
    {
     "data": {
      "text/plain": [
       "{'id': 1610612744,\n",
       " 'full_name': 'Golden State Warriors',\n",
       " 'abbreviation': 'GSW',\n",
       " 'nickname': 'Warriors',\n",
       " 'city': 'Golden State',\n",
       " 'state': 'California',\n",
       " 'year_founded': 1946}"
      ]
     },
     "execution_count": 20,
     "metadata": {},
     "output_type": "execute_result"
    }
   ],
   "source": [
    "GSW"
   ]
  },
  {
   "cell_type": "markdown",
   "metadata": {},
   "source": [
    "We want player id and team id so we can extract other data. \n",
    "Let's have a look at Kevin Durant (my favourite player!) and the fan favourite GSW.\n",
    "From earlier:"
   ]
  },
  {
   "cell_type": "code",
   "execution_count": 21,
   "metadata": {},
   "outputs": [
    {
     "name": "stdout",
     "output_type": "stream",
     "text": [
      "201142\n",
      "1610612744\n"
     ]
    }
   ],
   "source": [
    "print(KD_ID)\n",
    "print(GSW_ID)"
   ]
  },
  {
   "cell_type": "code",
   "execution_count": 22,
   "metadata": {},
   "outputs": [],
   "source": [
    "from nba_api.stats.endpoints import playercareerstats"
   ]
  },
  {
   "cell_type": "code",
   "execution_count": 23,
   "metadata": {},
   "outputs": [
    {
     "data": {
      "text/html": [
       "<div>\n",
       "<style scoped>\n",
       "    .dataframe tbody tr th:only-of-type {\n",
       "        vertical-align: middle;\n",
       "    }\n",
       "\n",
       "    .dataframe tbody tr th {\n",
       "        vertical-align: top;\n",
       "    }\n",
       "\n",
       "    .dataframe thead th {\n",
       "        text-align: right;\n",
       "    }\n",
       "</style>\n",
       "<table border=\"1\" class=\"dataframe\">\n",
       "  <thead>\n",
       "    <tr style=\"text-align: right;\">\n",
       "      <th></th>\n",
       "      <th>PLAYER_ID</th>\n",
       "      <th>SEASON_ID</th>\n",
       "      <th>LEAGUE_ID</th>\n",
       "      <th>TEAM_ID</th>\n",
       "      <th>TEAM_ABBREVIATION</th>\n",
       "      <th>PLAYER_AGE</th>\n",
       "      <th>GP</th>\n",
       "      <th>GS</th>\n",
       "      <th>MIN</th>\n",
       "      <th>FGM</th>\n",
       "      <th>...</th>\n",
       "      <th>FT_PCT</th>\n",
       "      <th>OREB</th>\n",
       "      <th>DREB</th>\n",
       "      <th>REB</th>\n",
       "      <th>AST</th>\n",
       "      <th>STL</th>\n",
       "      <th>BLK</th>\n",
       "      <th>TOV</th>\n",
       "      <th>PF</th>\n",
       "      <th>PTS</th>\n",
       "    </tr>\n",
       "  </thead>\n",
       "  <tbody>\n",
       "    <tr>\n",
       "      <th>0</th>\n",
       "      <td>201142</td>\n",
       "      <td>2007-08</td>\n",
       "      <td>00</td>\n",
       "      <td>1610612760</td>\n",
       "      <td>SEA</td>\n",
       "      <td>19.0</td>\n",
       "      <td>80</td>\n",
       "      <td>80</td>\n",
       "      <td>2768.0</td>\n",
       "      <td>587</td>\n",
       "      <td>...</td>\n",
       "      <td>0.873</td>\n",
       "      <td>70</td>\n",
       "      <td>278</td>\n",
       "      <td>348</td>\n",
       "      <td>192</td>\n",
       "      <td>78</td>\n",
       "      <td>75</td>\n",
       "      <td>232</td>\n",
       "      <td>122</td>\n",
       "      <td>1624</td>\n",
       "    </tr>\n",
       "    <tr>\n",
       "      <th>1</th>\n",
       "      <td>201142</td>\n",
       "      <td>2008-09</td>\n",
       "      <td>00</td>\n",
       "      <td>1610612760</td>\n",
       "      <td>OKC</td>\n",
       "      <td>20.0</td>\n",
       "      <td>74</td>\n",
       "      <td>74</td>\n",
       "      <td>2885.0</td>\n",
       "      <td>661</td>\n",
       "      <td>...</td>\n",
       "      <td>0.863</td>\n",
       "      <td>77</td>\n",
       "      <td>405</td>\n",
       "      <td>482</td>\n",
       "      <td>205</td>\n",
       "      <td>96</td>\n",
       "      <td>53</td>\n",
       "      <td>225</td>\n",
       "      <td>134</td>\n",
       "      <td>1871</td>\n",
       "    </tr>\n",
       "    <tr>\n",
       "      <th>2</th>\n",
       "      <td>201142</td>\n",
       "      <td>2009-10</td>\n",
       "      <td>00</td>\n",
       "      <td>1610612760</td>\n",
       "      <td>OKC</td>\n",
       "      <td>21.0</td>\n",
       "      <td>82</td>\n",
       "      <td>82</td>\n",
       "      <td>3239.0</td>\n",
       "      <td>794</td>\n",
       "      <td>...</td>\n",
       "      <td>0.900</td>\n",
       "      <td>105</td>\n",
       "      <td>518</td>\n",
       "      <td>623</td>\n",
       "      <td>231</td>\n",
       "      <td>112</td>\n",
       "      <td>84</td>\n",
       "      <td>271</td>\n",
       "      <td>171</td>\n",
       "      <td>2472</td>\n",
       "    </tr>\n",
       "    <tr>\n",
       "      <th>3</th>\n",
       "      <td>201142</td>\n",
       "      <td>2010-11</td>\n",
       "      <td>00</td>\n",
       "      <td>1610612760</td>\n",
       "      <td>OKC</td>\n",
       "      <td>22.0</td>\n",
       "      <td>78</td>\n",
       "      <td>78</td>\n",
       "      <td>3038.0</td>\n",
       "      <td>711</td>\n",
       "      <td>...</td>\n",
       "      <td>0.880</td>\n",
       "      <td>57</td>\n",
       "      <td>476</td>\n",
       "      <td>533</td>\n",
       "      <td>214</td>\n",
       "      <td>88</td>\n",
       "      <td>76</td>\n",
       "      <td>218</td>\n",
       "      <td>159</td>\n",
       "      <td>2161</td>\n",
       "    </tr>\n",
       "    <tr>\n",
       "      <th>4</th>\n",
       "      <td>201142</td>\n",
       "      <td>2011-12</td>\n",
       "      <td>00</td>\n",
       "      <td>1610612760</td>\n",
       "      <td>OKC</td>\n",
       "      <td>23.0</td>\n",
       "      <td>66</td>\n",
       "      <td>66</td>\n",
       "      <td>2546.0</td>\n",
       "      <td>643</td>\n",
       "      <td>...</td>\n",
       "      <td>0.860</td>\n",
       "      <td>40</td>\n",
       "      <td>487</td>\n",
       "      <td>527</td>\n",
       "      <td>231</td>\n",
       "      <td>88</td>\n",
       "      <td>77</td>\n",
       "      <td>248</td>\n",
       "      <td>133</td>\n",
       "      <td>1850</td>\n",
       "    </tr>\n",
       "  </tbody>\n",
       "</table>\n",
       "<p>5 rows × 27 columns</p>\n",
       "</div>"
      ],
      "text/plain": [
       "   PLAYER_ID SEASON_ID LEAGUE_ID     TEAM_ID TEAM_ABBREVIATION  PLAYER_AGE  \\\n",
       "0     201142   2007-08        00  1610612760               SEA        19.0   \n",
       "1     201142   2008-09        00  1610612760               OKC        20.0   \n",
       "2     201142   2009-10        00  1610612760               OKC        21.0   \n",
       "3     201142   2010-11        00  1610612760               OKC        22.0   \n",
       "4     201142   2011-12        00  1610612760               OKC        23.0   \n",
       "\n",
       "   GP  GS     MIN  FGM  ...  FT_PCT  OREB  DREB  REB  AST  STL  BLK  TOV   PF  \\\n",
       "0  80  80  2768.0  587  ...   0.873    70   278  348  192   78   75  232  122   \n",
       "1  74  74  2885.0  661  ...   0.863    77   405  482  205   96   53  225  134   \n",
       "2  82  82  3239.0  794  ...   0.900   105   518  623  231  112   84  271  171   \n",
       "3  78  78  3038.0  711  ...   0.880    57   476  533  214   88   76  218  159   \n",
       "4  66  66  2546.0  643  ...   0.860    40   487  527  231   88   77  248  133   \n",
       "\n",
       "    PTS  \n",
       "0  1624  \n",
       "1  1871  \n",
       "2  2472  \n",
       "3  2161  \n",
       "4  1850  \n",
       "\n",
       "[5 rows x 27 columns]"
      ]
     },
     "execution_count": 23,
     "metadata": {},
     "output_type": "execute_result"
    }
   ],
   "source": [
    "# Kevin Durant\n",
    "KD_career = playercareerstats.PlayerCareerStats(player_id=str(KD_ID))\n",
    "KD_yby = KD_career.get_data_frames()[0]\n",
    "KD_yby.head()"
   ]
  },
  {
   "cell_type": "code",
   "execution_count": 24,
   "metadata": {},
   "outputs": [
    {
     "data": {
      "image/png": "[encoded data removed]",
      "text/plain": [
       "<Figure size 432x288 with 1 Axes>"
      ]
     },
     "metadata": {
      "needs_background": "light"
     },
     "output_type": "display_data"
    }
   ],
   "source": [
    "fig, ax = plt.subplots()\n",
    "ax.bar(KD_yby['SEASON_ID'], KD_yby['FGM'])\n",
    "\n",
    "ax.set(xlabel='Season', ylabel='FGM',\n",
    "       title='Simple plot FGM')\n",
    "plt.xticks(rotation=90)\n",
    "ax.grid(False)"
   ]
  },
  {
   "cell_type": "markdown",
   "metadata": {},
   "source": [
    "A quick look at the chart shows 2013-2014 as the highest FGM made, followed by 2014-2015 as the lowest. \n",
    "A quick google shows that Durant won the MVP (most valuable player) in 2013-2014 season and was then injured in the 2014-2015 season (only playing 27 games, hence leading to lower FGM). \n",
    "<br><br>Perhaps this is better shown including games played. Although I'm not a huge fan of plots sharing axes, this shows some interesting overlayed bars with FGM and Games Played."
   ]
  },
  {
   "cell_type": "code",
   "execution_count": 25,
   "metadata": {},
   "outputs": [
    {
     "data": {
      "image/png": "[encoded data removed]",
      "text/plain": [
       "<Figure size 432x288 with 2 Axes>"
      ]
     },
     "metadata": {
      "needs_background": "light"
     },
     "output_type": "display_data"
    }
   ],
   "source": [
    "fig, ax = plt.subplots()\n",
    "\n",
    "\n",
    "width = 0.3\n",
    "\n",
    "ax.bar(KD_yby['SEASON_ID'], KD_yby['FGM'], label='FGM')\n",
    "ax.set(xlabel='Season', ylabel='Field Goals Made',\n",
    "       title='Dual Axis plot FGM and GP, Kevin Durant Career')\n",
    "plt.xticks(rotation=90)\n",
    "ax.grid(False)\n",
    "\n",
    "ax2=ax.twinx()\n",
    "# make a plot with different y-axis using second axis object\n",
    "ax2.bar(KD_yby['SEASON_ID'], KD_yby['GP'],color='orange', label = 'GP', width = width)\n",
    "ax2.set_ylabel(\"Games Played\")\n",
    "\n",
    "ax.legend(loc = 'upper right')\n",
    "ax2.legend(loc = 'upper left')\n",
    "\n",
    "plt.show()"
   ]
  },
  {
   "cell_type": "markdown",
   "metadata": {},
   "source": [
    "A few things make sense. In his first season, he played a lot of games but took less shots, expected of a rookie/younger player new into the NBA. Even so, he won rookie of the year (best new player in their first season). His shot taking generally increased in the early years, while the number of games remained relatively similar until MVP in 2013-2014 (a dip in 11/12 with slightly less GP/FGM). Perhaps playing a high number of games in a season is a key consideration for MVP candidates. Season 14/15 and 20/21 show less GP and therefore less FGM due to injury. Overall, he has played less games in his later years compared to his early years in the NBA. Knowing that he also missed games in 2021-2022 due to injury again, he won't be in contention for MVP. It will be interesting to monitor his GP in the coming years.  "
   ]
  },
  {
   "cell_type": "code",
   "execution_count": 26,
   "metadata": {},
   "outputs": [
    {
     "data": {
      "image/png": "[encoded data removed]",
      "text/plain": [
       "<Figure size 432x288 with 1 Axes>"
      ]
     },
     "metadata": {
      "needs_background": "light"
     },
     "output_type": "display_data"
    }
   ],
   "source": [
    "fig, ax = plt.subplots()\n",
    "ax.bar(KD_yby['SEASON_ID'], KD_yby['FG_PCT'])\n",
    "\n",
    "ax.set(xlabel='Season', ylabel='FGM',\n",
    "       title='Simple plot FG%')\n",
    "plt.xticks(rotation=90)\n",
    "ax.grid(False)"
   ]
  },
  {
   "cell_type": "markdown",
   "metadata": {},
   "source": [
    "Impressivley, KD's FG% shows an increasing trend season on season. Perhaps this is better seen in a line chart. Note that the current season 22-23, KD has his highest FG% ever"
   ]
  },
  {
   "cell_type": "code",
   "execution_count": 27,
   "metadata": {},
   "outputs": [
    {
     "data": {
      "image/png": "[encoded data removed]",
      "text/plain": [
       "<Figure size 432x288 with 1 Axes>"
      ]
     },
     "metadata": {
      "needs_background": "light"
     },
     "output_type": "display_data"
    }
   ],
   "source": [
    "fig, ax = plt.subplots()\n",
    "ax.plot(KD_yby['SEASON_ID'], KD_yby['FG_PCT'])\n",
    "\n",
    "ax.set(xlabel='Season', ylabel='FGM',\n",
    "       title='Simple plot FG%')\n",
    "plt.xticks(rotation=90)\n",
    "ax.grid(False)"
   ]
  },
  {
   "cell_type": "code",
   "execution_count": 28,
   "metadata": {},
   "outputs": [
    {
     "data": {
      "text/html": [
       "<div>\n",
       "<style scoped>\n",
       "    .dataframe tbody tr th:only-of-type {\n",
       "        vertical-align: middle;\n",
       "    }\n",
       "\n",
       "    .dataframe tbody tr th {\n",
       "        vertical-align: top;\n",
       "    }\n",
       "\n",
       "    .dataframe thead th {\n",
       "        text-align: right;\n",
       "    }\n",
       "</style>\n",
       "<table border=\"1\" class=\"dataframe\">\n",
       "  <thead>\n",
       "    <tr style=\"text-align: right;\">\n",
       "      <th></th>\n",
       "      <th>PLAYER_ID</th>\n",
       "      <th>SEASON_ID</th>\n",
       "      <th>LEAGUE_ID</th>\n",
       "      <th>TEAM_ID</th>\n",
       "      <th>TEAM_ABBREVIATION</th>\n",
       "      <th>PLAYER_AGE</th>\n",
       "      <th>GP</th>\n",
       "      <th>GS</th>\n",
       "      <th>MIN</th>\n",
       "      <th>FGM</th>\n",
       "      <th>...</th>\n",
       "      <th>FT_PCT</th>\n",
       "      <th>OREB</th>\n",
       "      <th>DREB</th>\n",
       "      <th>REB</th>\n",
       "      <th>AST</th>\n",
       "      <th>STL</th>\n",
       "      <th>BLK</th>\n",
       "      <th>TOV</th>\n",
       "      <th>PF</th>\n",
       "      <th>PTS</th>\n",
       "    </tr>\n",
       "  </thead>\n",
       "  <tbody>\n",
       "    <tr>\n",
       "      <th>0</th>\n",
       "      <td>201142</td>\n",
       "      <td>2007-08</td>\n",
       "      <td>00</td>\n",
       "      <td>1610612760</td>\n",
       "      <td>SEA</td>\n",
       "      <td>19.0</td>\n",
       "      <td>80</td>\n",
       "      <td>80</td>\n",
       "      <td>2768.0</td>\n",
       "      <td>587</td>\n",
       "      <td>...</td>\n",
       "      <td>0.873</td>\n",
       "      <td>70</td>\n",
       "      <td>278</td>\n",
       "      <td>348</td>\n",
       "      <td>192</td>\n",
       "      <td>78</td>\n",
       "      <td>75</td>\n",
       "      <td>232</td>\n",
       "      <td>122</td>\n",
       "      <td>1624</td>\n",
       "    </tr>\n",
       "    <tr>\n",
       "      <th>1</th>\n",
       "      <td>201142</td>\n",
       "      <td>2008-09</td>\n",
       "      <td>00</td>\n",
       "      <td>1610612760</td>\n",
       "      <td>OKC</td>\n",
       "      <td>20.0</td>\n",
       "      <td>74</td>\n",
       "      <td>74</td>\n",
       "      <td>2885.0</td>\n",
       "      <td>661</td>\n",
       "      <td>...</td>\n",
       "      <td>0.863</td>\n",
       "      <td>77</td>\n",
       "      <td>405</td>\n",
       "      <td>482</td>\n",
       "      <td>205</td>\n",
       "      <td>96</td>\n",
       "      <td>53</td>\n",
       "      <td>225</td>\n",
       "      <td>134</td>\n",
       "      <td>1871</td>\n",
       "    </tr>\n",
       "    <tr>\n",
       "      <th>2</th>\n",
       "      <td>201142</td>\n",
       "      <td>2009-10</td>\n",
       "      <td>00</td>\n",
       "      <td>1610612760</td>\n",
       "      <td>OKC</td>\n",
       "      <td>21.0</td>\n",
       "      <td>82</td>\n",
       "      <td>82</td>\n",
       "      <td>3239.0</td>\n",
       "      <td>794</td>\n",
       "      <td>...</td>\n",
       "      <td>0.900</td>\n",
       "      <td>105</td>\n",
       "      <td>518</td>\n",
       "      <td>623</td>\n",
       "      <td>231</td>\n",
       "      <td>112</td>\n",
       "      <td>84</td>\n",
       "      <td>271</td>\n",
       "      <td>171</td>\n",
       "      <td>2472</td>\n",
       "    </tr>\n",
       "    <tr>\n",
       "      <th>3</th>\n",
       "      <td>201142</td>\n",
       "      <td>2010-11</td>\n",
       "      <td>00</td>\n",
       "      <td>1610612760</td>\n",
       "      <td>OKC</td>\n",
       "      <td>22.0</td>\n",
       "      <td>78</td>\n",
       "      <td>78</td>\n",
       "      <td>3038.0</td>\n",
       "      <td>711</td>\n",
       "      <td>...</td>\n",
       "      <td>0.880</td>\n",
       "      <td>57</td>\n",
       "      <td>476</td>\n",
       "      <td>533</td>\n",
       "      <td>214</td>\n",
       "      <td>88</td>\n",
       "      <td>76</td>\n",
       "      <td>218</td>\n",
       "      <td>159</td>\n",
       "      <td>2161</td>\n",
       "    </tr>\n",
       "    <tr>\n",
       "      <th>4</th>\n",
       "      <td>201142</td>\n",
       "      <td>2011-12</td>\n",
       "      <td>00</td>\n",
       "      <td>1610612760</td>\n",
       "      <td>OKC</td>\n",
       "      <td>23.0</td>\n",
       "      <td>66</td>\n",
       "      <td>66</td>\n",
       "      <td>2546.0</td>\n",
       "      <td>643</td>\n",
       "      <td>...</td>\n",
       "      <td>0.860</td>\n",
       "      <td>40</td>\n",
       "      <td>487</td>\n",
       "      <td>527</td>\n",
       "      <td>231</td>\n",
       "      <td>88</td>\n",
       "      <td>77</td>\n",
       "      <td>248</td>\n",
       "      <td>133</td>\n",
       "      <td>1850</td>\n",
       "    </tr>\n",
       "  </tbody>\n",
       "</table>\n",
       "<p>5 rows × 27 columns</p>\n",
       "</div>"
      ],
      "text/plain": [
       "   PLAYER_ID SEASON_ID LEAGUE_ID     TEAM_ID TEAM_ABBREVIATION  PLAYER_AGE  \\\n",
       "0     201142   2007-08        00  1610612760               SEA        19.0   \n",
       "1     201142   2008-09        00  1610612760               OKC        20.0   \n",
       "2     201142   2009-10        00  1610612760               OKC        21.0   \n",
       "3     201142   2010-11        00  1610612760               OKC        22.0   \n",
       "4     201142   2011-12        00  1610612760               OKC        23.0   \n",
       "\n",
       "   GP  GS     MIN  FGM  ...  FT_PCT  OREB  DREB  REB  AST  STL  BLK  TOV   PF  \\\n",
       "0  80  80  2768.0  587  ...   0.873    70   278  348  192   78   75  232  122   \n",
       "1  74  74  2885.0  661  ...   0.863    77   405  482  205   96   53  225  134   \n",
       "2  82  82  3239.0  794  ...   0.900   105   518  623  231  112   84  271  171   \n",
       "3  78  78  3038.0  711  ...   0.880    57   476  533  214   88   76  218  159   \n",
       "4  66  66  2546.0  643  ...   0.860    40   487  527  231   88   77  248  133   \n",
       "\n",
       "    PTS  \n",
       "0  1624  \n",
       "1  1871  \n",
       "2  2472  \n",
       "3  2161  \n",
       "4  1850  \n",
       "\n",
       "[5 rows x 27 columns]"
      ]
     },
     "execution_count": 28,
     "metadata": {},
     "output_type": "execute_result"
    }
   ],
   "source": [
    "KD_yby.head()"
   ]
  },
  {
   "cell_type": "code",
   "execution_count": 29,
   "metadata": {},
   "outputs": [
    {
     "data": {
      "text/plain": [
       "array(['SEA', 'OKC', 'GSW', 'BKN'], dtype=object)"
      ]
     },
     "execution_count": 29,
     "metadata": {},
     "output_type": "execute_result"
    }
   ],
   "source": [
    "KD_yby.TEAM_ABBREVIATION.unique()"
   ]
  },
  {
   "cell_type": "code",
   "execution_count": 30,
   "metadata": {},
   "outputs": [
    {
     "name": "stdout",
     "output_type": "stream",
     "text": [
      "  TEAM_ABBREVIATION         GP         GS          MIN         FGM  \\\n",
      "0               BKN  41.333333  40.333333  1480.666667  421.333333   \n",
      "1               GSW  69.333333  69.333333  2365.666667  634.000000   \n",
      "2               OKC  70.125000  70.125000  2680.000000  665.625000   \n",
      "3               SEA  80.000000  80.000000  2768.000000  587.000000   \n",
      "\n",
      "           FGA    FG_PCT  \n",
      "0   788.000000  0.538333  \n",
      "1  1210.333333  0.524667  \n",
      "2  1357.750000  0.492250  \n",
      "3  1366.000000  0.430000  \n"
     ]
    }
   ],
   "source": [
    "# return some grouped stats by team\n",
    "# if you don't reset_index() (or as_index=False within groupby) then the plots below don't work as groups become the index\n",
    "# here the groups are Team_Abbreviation. We want to easily select this against grouped metric\n",
    "KD_team_stats = KD_yby.groupby(['TEAM_ABBREVIATION'])[['GP','GS','MIN','FGM','FGA','FG_PCT']].mean().reset_index()\n",
    "print(KD_team_stats)"
   ]
  },
  {
   "cell_type": "code",
   "execution_count": 31,
   "metadata": {},
   "outputs": [
    {
     "data": {
      "text/plain": [
       "<BarContainer object of 4 artists>"
      ]
     },
     "execution_count": 31,
     "metadata": {},
     "output_type": "execute_result"
    },
    {
     "data": {
      "image/png": "[encoded data removed]",
      "text/plain": [
       "<Figure size 432x288 with 1 Axes>"
      ]
     },
     "metadata": {
      "needs_background": "light"
     },
     "output_type": "display_data"
    }
   ],
   "source": [
    "# simple matplotlib bar plot selecting x and y axis values of interest\n",
    "plt.bar(KD_team_stats['TEAM_ABBREVIATION'],KD_team_stats['FG_PCT'])"
   ]
  },
  {
   "cell_type": "code",
   "execution_count": 32,
   "metadata": {},
   "outputs": [
    {
     "data": {
      "image/png": "[encoded data removed]",
      "text/plain": [
       "<Figure size 432x288 with 1 Axes>"
      ]
     },
     "metadata": {
      "needs_background": "light"
     },
     "output_type": "display_data"
    }
   ],
   "source": [
    "# or here a bit more detailed and add some labels and title, further visual edits possible here\n",
    "# Plot change in AVG's for the different teams that KD played for\n",
    "fig, ax = plt.subplots()\n",
    "ax.bar(KD_team_stats['TEAM_ABBREVIATION'], KD_team_stats['FG_PCT'])\n",
    "\n",
    "ax.set(xlabel='Team', ylabel='FG%',\n",
    "       title=\"Change in FG% for KD's Teams\")\n",
    "plt.xticks(rotation=90)\n",
    "ax.grid(False)"
   ]
  },
  {
   "cell_type": "markdown",
   "metadata": {},
   "source": [
    "Above chart shows KD's average FG_PCT is highest with Brooklyn, and also it has improved year on year (year not shown here) by looking at the increase by team progression. "
   ]
  },
  {
   "cell_type": "code",
   "execution_count": 33,
   "metadata": {},
   "outputs": [
    {
     "data": {
      "text/html": [
       "<div>\n",
       "<style scoped>\n",
       "    .dataframe tbody tr th:only-of-type {\n",
       "        vertical-align: middle;\n",
       "    }\n",
       "\n",
       "    .dataframe tbody tr th {\n",
       "        vertical-align: top;\n",
       "    }\n",
       "\n",
       "    .dataframe thead th {\n",
       "        text-align: right;\n",
       "    }\n",
       "</style>\n",
       "<table border=\"1\" class=\"dataframe\">\n",
       "  <thead>\n",
       "    <tr style=\"text-align: right;\">\n",
       "      <th></th>\n",
       "      <th>TEAM_ABBREVIATION</th>\n",
       "      <th>GP</th>\n",
       "      <th>GS</th>\n",
       "      <th>MIN</th>\n",
       "      <th>FGM</th>\n",
       "      <th>FGA</th>\n",
       "      <th>FG_PCT</th>\n",
       "    </tr>\n",
       "  </thead>\n",
       "  <tbody>\n",
       "    <tr>\n",
       "      <th>0</th>\n",
       "      <td>BKN</td>\n",
       "      <td>41.333333</td>\n",
       "      <td>40.333333</td>\n",
       "      <td>1480.666667</td>\n",
       "      <td>421.333333</td>\n",
       "      <td>788.000000</td>\n",
       "      <td>0.538333</td>\n",
       "    </tr>\n",
       "    <tr>\n",
       "      <th>1</th>\n",
       "      <td>GSW</td>\n",
       "      <td>69.333333</td>\n",
       "      <td>69.333333</td>\n",
       "      <td>2365.666667</td>\n",
       "      <td>634.000000</td>\n",
       "      <td>1210.333333</td>\n",
       "      <td>0.524667</td>\n",
       "    </tr>\n",
       "    <tr>\n",
       "      <th>2</th>\n",
       "      <td>OKC</td>\n",
       "      <td>70.125000</td>\n",
       "      <td>70.125000</td>\n",
       "      <td>2680.000000</td>\n",
       "      <td>665.625000</td>\n",
       "      <td>1357.750000</td>\n",
       "      <td>0.492250</td>\n",
       "    </tr>\n",
       "    <tr>\n",
       "      <th>3</th>\n",
       "      <td>SEA</td>\n",
       "      <td>80.000000</td>\n",
       "      <td>80.000000</td>\n",
       "      <td>2768.000000</td>\n",
       "      <td>587.000000</td>\n",
       "      <td>1366.000000</td>\n",
       "      <td>0.430000</td>\n",
       "    </tr>\n",
       "  </tbody>\n",
       "</table>\n",
       "</div>"
      ],
      "text/plain": [
       "  TEAM_ABBREVIATION         GP         GS          MIN         FGM  \\\n",
       "0               BKN  41.333333  40.333333  1480.666667  421.333333   \n",
       "1               GSW  69.333333  69.333333  2365.666667  634.000000   \n",
       "2               OKC  70.125000  70.125000  2680.000000  665.625000   \n",
       "3               SEA  80.000000  80.000000  2768.000000  587.000000   \n",
       "\n",
       "           FGA    FG_PCT  \n",
       "0   788.000000  0.538333  \n",
       "1  1210.333333  0.524667  \n",
       "2  1357.750000  0.492250  \n",
       "3  1366.000000  0.430000  "
      ]
     },
     "execution_count": 33,
     "metadata": {},
     "output_type": "execute_result"
    }
   ],
   "source": [
    "KD_team_stats"
   ]
  },
  {
   "cell_type": "markdown",
   "metadata": {},
   "source": [
    "Let's look to try and build a shot map, depending on if the data exists in the api"
   ]
  },
  {
   "cell_type": "code",
   "execution_count": 34,
   "metadata": {},
   "outputs": [],
   "source": [
    "from nba_api.stats.endpoints import shotchartdetail"
   ]
  },
  {
   "cell_type": "code",
   "execution_count": 35,
   "metadata": {},
   "outputs": [
    {
     "data": {
      "text/html": [
       "<div>\n",
       "<style scoped>\n",
       "    .dataframe tbody tr th:only-of-type {\n",
       "        vertical-align: middle;\n",
       "    }\n",
       "\n",
       "    .dataframe tbody tr th {\n",
       "        vertical-align: top;\n",
       "    }\n",
       "\n",
       "    .dataframe thead th {\n",
       "        text-align: right;\n",
       "    }\n",
       "</style>\n",
       "<table border=\"1\" class=\"dataframe\">\n",
       "  <thead>\n",
       "    <tr style=\"text-align: right;\">\n",
       "      <th></th>\n",
       "      <th>GRID_TYPE</th>\n",
       "      <th>SHOT_ZONE_BASIC</th>\n",
       "      <th>SHOT_ZONE_AREA</th>\n",
       "      <th>SHOT_ZONE_RANGE</th>\n",
       "      <th>FGA</th>\n",
       "      <th>FGM</th>\n",
       "      <th>FG_PCT</th>\n",
       "    </tr>\n",
       "  </thead>\n",
       "  <tbody>\n",
       "    <tr>\n",
       "      <th>0</th>\n",
       "      <td>League Averages</td>\n",
       "      <td>Above the Break 3</td>\n",
       "      <td>Back Court(BC)</td>\n",
       "      <td>Back Court Shot</td>\n",
       "      <td>3</td>\n",
       "      <td>3</td>\n",
       "      <td>1.0</td>\n",
       "    </tr>\n",
       "    <tr>\n",
       "      <th>1</th>\n",
       "      <td>League Averages</td>\n",
       "      <td>Above the Break 3</td>\n",
       "      <td>Center(C)</td>\n",
       "      <td>24+ ft.</td>\n",
       "      <td>2295</td>\n",
       "      <td>2295</td>\n",
       "      <td>1.0</td>\n",
       "    </tr>\n",
       "    <tr>\n",
       "      <th>2</th>\n",
       "      <td>League Averages</td>\n",
       "      <td>Above the Break 3</td>\n",
       "      <td>Left Side Center(LC)</td>\n",
       "      <td>24+ ft.</td>\n",
       "      <td>3736</td>\n",
       "      <td>3736</td>\n",
       "      <td>1.0</td>\n",
       "    </tr>\n",
       "    <tr>\n",
       "      <th>3</th>\n",
       "      <td>League Averages</td>\n",
       "      <td>Above the Break 3</td>\n",
       "      <td>Right Side Center(RC)</td>\n",
       "      <td>24+ ft.</td>\n",
       "      <td>3381</td>\n",
       "      <td>3381</td>\n",
       "      <td>1.0</td>\n",
       "    </tr>\n",
       "    <tr>\n",
       "      <th>4</th>\n",
       "      <td>League Averages</td>\n",
       "      <td>Backcourt</td>\n",
       "      <td>Back Court(BC)</td>\n",
       "      <td>Back Court Shot</td>\n",
       "      <td>2</td>\n",
       "      <td>2</td>\n",
       "      <td>1.0</td>\n",
       "    </tr>\n",
       "  </tbody>\n",
       "</table>\n",
       "</div>"
      ],
      "text/plain": [
       "         GRID_TYPE    SHOT_ZONE_BASIC         SHOT_ZONE_AREA  SHOT_ZONE_RANGE  \\\n",
       "0  League Averages  Above the Break 3         Back Court(BC)  Back Court Shot   \n",
       "1  League Averages  Above the Break 3              Center(C)          24+ ft.   \n",
       "2  League Averages  Above the Break 3   Left Side Center(LC)          24+ ft.   \n",
       "3  League Averages  Above the Break 3  Right Side Center(RC)          24+ ft.   \n",
       "4  League Averages          Backcourt         Back Court(BC)  Back Court Shot   \n",
       "\n",
       "    FGA   FGM  FG_PCT  \n",
       "0     3     3     1.0  \n",
       "1  2295  2295     1.0  \n",
       "2  3736  3736     1.0  \n",
       "3  3381  3381     1.0  \n",
       "4     2     2     1.0  "
      ]
     },
     "execution_count": 35,
     "metadata": {},
     "output_type": "execute_result"
    }
   ],
   "source": [
    "# Kevin Durant, not sure what this is really\n",
    "KD_shots = shotchartdetail.ShotChartDetail(player_id=str(KD_ID),team_id=str(GSW_ID))\n",
    "KD_shots_yby = KD_shots.get_data_frames()[1]\n",
    "KD_shots_yby.head()"
   ]
  },
  {
   "cell_type": "code",
   "execution_count": 36,
   "metadata": {},
   "outputs": [
    {
     "data": {
      "text/html": [
       "<div>\n",
       "<style scoped>\n",
       "    .dataframe tbody tr th:only-of-type {\n",
       "        vertical-align: middle;\n",
       "    }\n",
       "\n",
       "    .dataframe tbody tr th {\n",
       "        vertical-align: top;\n",
       "    }\n",
       "\n",
       "    .dataframe thead th {\n",
       "        text-align: right;\n",
       "    }\n",
       "</style>\n",
       "<table border=\"1\" class=\"dataframe\">\n",
       "  <thead>\n",
       "    <tr style=\"text-align: right;\">\n",
       "      <th></th>\n",
       "      <th>GRID_TYPE</th>\n",
       "      <th>GAME_ID</th>\n",
       "      <th>GAME_EVENT_ID</th>\n",
       "      <th>PLAYER_ID</th>\n",
       "      <th>PLAYER_NAME</th>\n",
       "      <th>TEAM_ID</th>\n",
       "      <th>TEAM_NAME</th>\n",
       "      <th>PERIOD</th>\n",
       "      <th>MINUTES_REMAINING</th>\n",
       "      <th>SECONDS_REMAINING</th>\n",
       "      <th>...</th>\n",
       "      <th>SHOT_ZONE_AREA</th>\n",
       "      <th>SHOT_ZONE_RANGE</th>\n",
       "      <th>SHOT_DISTANCE</th>\n",
       "      <th>LOC_X</th>\n",
       "      <th>LOC_Y</th>\n",
       "      <th>SHOT_ATTEMPTED_FLAG</th>\n",
       "      <th>SHOT_MADE_FLAG</th>\n",
       "      <th>GAME_DATE</th>\n",
       "      <th>HTM</th>\n",
       "      <th>VTM</th>\n",
       "    </tr>\n",
       "  </thead>\n",
       "  <tbody>\n",
       "  </tbody>\n",
       "</table>\n",
       "<p>0 rows × 24 columns</p>\n",
       "</div>"
      ],
      "text/plain": [
       "Empty DataFrame\n",
       "Columns: [GRID_TYPE, GAME_ID, GAME_EVENT_ID, PLAYER_ID, PLAYER_NAME, TEAM_ID, TEAM_NAME, PERIOD, MINUTES_REMAINING, SECONDS_REMAINING, EVENT_TYPE, ACTION_TYPE, SHOT_TYPE, SHOT_ZONE_BASIC, SHOT_ZONE_AREA, SHOT_ZONE_RANGE, SHOT_DISTANCE, LOC_X, LOC_Y, SHOT_ATTEMPTED_FLAG, SHOT_MADE_FLAG, GAME_DATE, HTM, VTM]\n",
       "Index: []\n",
       "\n",
       "[0 rows x 24 columns]"
      ]
     },
     "execution_count": 36,
     "metadata": {},
     "output_type": "execute_result"
    }
   ],
   "source": [
    "KD_shots_yby_1 = KD_shots.get_data_frames()[0]\n",
    "KD_shots_yby_1.head()"
   ]
  },
  {
   "cell_type": "code",
   "execution_count": 37,
   "metadata": {},
   "outputs": [],
   "source": [
    "# taken from https://stackoverflow.com/questions/65627725/how-to-get-nba-shot-chart-data-correctly\n",
    "\n",
    "import json\n",
    "\n",
    "response = shotchartdetail.ShotChartDetail(\n",
    "    team_id=0,\n",
    "    player_id=0,\n",
    "    season_nullable='2022-23',\n",
    "    context_measure_simple = 'FGA', # default is only made shots so set this explicitly to attempted FG (I think)\n",
    "    season_type_all_star='Regular Season'\n",
    ")\n",
    "\n",
    "content = json.loads(response.get_json())\n",
    "\n",
    "results = content['resultSets'][0]\n",
    "headers = results['headers']\n",
    "rows = results['rowSet']\n",
    "df = pd.DataFrame(rows, columns=headers)\n",
    "#df.columns = headers\n",
    "\n",
    "# write to csv file\n",
    "#df.to_csv(r'C:\\Users\\Comp\\Desktop\\nba_2001-02.csv', index=False)"
   ]
  },
  {
   "cell_type": "code",
   "execution_count": 38,
   "metadata": {},
   "outputs": [
    {
     "data": {
      "text/html": [
       "<div>\n",
       "<style scoped>\n",
       "    .dataframe tbody tr th:only-of-type {\n",
       "        vertical-align: middle;\n",
       "    }\n",
       "\n",
       "    .dataframe tbody tr th {\n",
       "        vertical-align: top;\n",
       "    }\n",
       "\n",
       "    .dataframe thead th {\n",
       "        text-align: right;\n",
       "    }\n",
       "</style>\n",
       "<table border=\"1\" class=\"dataframe\">\n",
       "  <thead>\n",
       "    <tr style=\"text-align: right;\">\n",
       "      <th></th>\n",
       "      <th>GRID_TYPE</th>\n",
       "      <th>GAME_ID</th>\n",
       "      <th>GAME_EVENT_ID</th>\n",
       "      <th>PLAYER_ID</th>\n",
       "      <th>PLAYER_NAME</th>\n",
       "      <th>TEAM_ID</th>\n",
       "      <th>TEAM_NAME</th>\n",
       "      <th>PERIOD</th>\n",
       "      <th>MINUTES_REMAINING</th>\n",
       "      <th>SECONDS_REMAINING</th>\n",
       "      <th>...</th>\n",
       "      <th>SHOT_ZONE_AREA</th>\n",
       "      <th>SHOT_ZONE_RANGE</th>\n",
       "      <th>SHOT_DISTANCE</th>\n",
       "      <th>LOC_X</th>\n",
       "      <th>LOC_Y</th>\n",
       "      <th>SHOT_ATTEMPTED_FLAG</th>\n",
       "      <th>SHOT_MADE_FLAG</th>\n",
       "      <th>GAME_DATE</th>\n",
       "      <th>HTM</th>\n",
       "      <th>VTM</th>\n",
       "    </tr>\n",
       "  </thead>\n",
       "  <tbody>\n",
       "    <tr>\n",
       "      <th>0</th>\n",
       "      <td>Shot Chart Detail</td>\n",
       "      <td>0022200001</td>\n",
       "      <td>7</td>\n",
       "      <td>203954</td>\n",
       "      <td>Joel Embiid</td>\n",
       "      <td>1610612755</td>\n",
       "      <td>Philadelphia 76ers</td>\n",
       "      <td>1</td>\n",
       "      <td>11</td>\n",
       "      <td>38</td>\n",
       "      <td>...</td>\n",
       "      <td>Left Side(L)</td>\n",
       "      <td>8-16 ft.</td>\n",
       "      <td>12</td>\n",
       "      <td>-118</td>\n",
       "      <td>50</td>\n",
       "      <td>1</td>\n",
       "      <td>0</td>\n",
       "      <td>20221018</td>\n",
       "      <td>BOS</td>\n",
       "      <td>PHI</td>\n",
       "    </tr>\n",
       "    <tr>\n",
       "      <th>1</th>\n",
       "      <td>Shot Chart Detail</td>\n",
       "      <td>0022200001</td>\n",
       "      <td>11</td>\n",
       "      <td>203935</td>\n",
       "      <td>Marcus Smart</td>\n",
       "      <td>1610612738</td>\n",
       "      <td>Boston Celtics</td>\n",
       "      <td>1</td>\n",
       "      <td>11</td>\n",
       "      <td>15</td>\n",
       "      <td>...</td>\n",
       "      <td>Right Side(R)</td>\n",
       "      <td>8-16 ft.</td>\n",
       "      <td>13</td>\n",
       "      <td>120</td>\n",
       "      <td>55</td>\n",
       "      <td>1</td>\n",
       "      <td>1</td>\n",
       "      <td>20221018</td>\n",
       "      <td>BOS</td>\n",
       "      <td>PHI</td>\n",
       "    </tr>\n",
       "    <tr>\n",
       "      <th>2</th>\n",
       "      <td>Shot Chart Detail</td>\n",
       "      <td>0022200001</td>\n",
       "      <td>12</td>\n",
       "      <td>202699</td>\n",
       "      <td>Tobias Harris</td>\n",
       "      <td>1610612755</td>\n",
       "      <td>Philadelphia 76ers</td>\n",
       "      <td>1</td>\n",
       "      <td>11</td>\n",
       "      <td>5</td>\n",
       "      <td>...</td>\n",
       "      <td>Center(C)</td>\n",
       "      <td>8-16 ft.</td>\n",
       "      <td>14</td>\n",
       "      <td>50</td>\n",
       "      <td>135</td>\n",
       "      <td>1</td>\n",
       "      <td>0</td>\n",
       "      <td>20221018</td>\n",
       "      <td>BOS</td>\n",
       "      <td>PHI</td>\n",
       "    </tr>\n",
       "    <tr>\n",
       "      <th>3</th>\n",
       "      <td>Shot Chart Detail</td>\n",
       "      <td>0022200001</td>\n",
       "      <td>14</td>\n",
       "      <td>202699</td>\n",
       "      <td>Tobias Harris</td>\n",
       "      <td>1610612755</td>\n",
       "      <td>Philadelphia 76ers</td>\n",
       "      <td>1</td>\n",
       "      <td>11</td>\n",
       "      <td>3</td>\n",
       "      <td>...</td>\n",
       "      <td>Center(C)</td>\n",
       "      <td>Less Than 8 ft.</td>\n",
       "      <td>0</td>\n",
       "      <td>0</td>\n",
       "      <td>0</td>\n",
       "      <td>1</td>\n",
       "      <td>1</td>\n",
       "      <td>20221018</td>\n",
       "      <td>BOS</td>\n",
       "      <td>PHI</td>\n",
       "    </tr>\n",
       "    <tr>\n",
       "      <th>4</th>\n",
       "      <td>Shot Chart Detail</td>\n",
       "      <td>0022200001</td>\n",
       "      <td>15</td>\n",
       "      <td>1628369</td>\n",
       "      <td>Jayson Tatum</td>\n",
       "      <td>1610612738</td>\n",
       "      <td>Boston Celtics</td>\n",
       "      <td>1</td>\n",
       "      <td>10</td>\n",
       "      <td>46</td>\n",
       "      <td>...</td>\n",
       "      <td>Left Side(L)</td>\n",
       "      <td>24+ ft.</td>\n",
       "      <td>23</td>\n",
       "      <td>-232</td>\n",
       "      <td>49</td>\n",
       "      <td>1</td>\n",
       "      <td>1</td>\n",
       "      <td>20221018</td>\n",
       "      <td>BOS</td>\n",
       "      <td>PHI</td>\n",
       "    </tr>\n",
       "  </tbody>\n",
       "</table>\n",
       "<p>5 rows × 24 columns</p>\n",
       "</div>"
      ],
      "text/plain": [
       "           GRID_TYPE     GAME_ID  GAME_EVENT_ID  PLAYER_ID    PLAYER_NAME  \\\n",
       "0  Shot Chart Detail  0022200001              7     203954    Joel Embiid   \n",
       "1  Shot Chart Detail  0022200001             11     203935   Marcus Smart   \n",
       "2  Shot Chart Detail  0022200001             12     202699  Tobias Harris   \n",
       "3  Shot Chart Detail  0022200001             14     202699  Tobias Harris   \n",
       "4  Shot Chart Detail  0022200001             15    1628369   Jayson Tatum   \n",
       "\n",
       "      TEAM_ID           TEAM_NAME  PERIOD  MINUTES_REMAINING  \\\n",
       "0  1610612755  Philadelphia 76ers       1                 11   \n",
       "1  1610612738      Boston Celtics       1                 11   \n",
       "2  1610612755  Philadelphia 76ers       1                 11   \n",
       "3  1610612755  Philadelphia 76ers       1                 11   \n",
       "4  1610612738      Boston Celtics       1                 10   \n",
       "\n",
       "   SECONDS_REMAINING  ... SHOT_ZONE_AREA  SHOT_ZONE_RANGE SHOT_DISTANCE LOC_X  \\\n",
       "0                 38  ...   Left Side(L)         8-16 ft.            12  -118   \n",
       "1                 15  ...  Right Side(R)         8-16 ft.            13   120   \n",
       "2                  5  ...      Center(C)         8-16 ft.            14    50   \n",
       "3                  3  ...      Center(C)  Less Than 8 ft.             0     0   \n",
       "4                 46  ...   Left Side(L)          24+ ft.            23  -232   \n",
       "\n",
       "  LOC_Y SHOT_ATTEMPTED_FLAG  SHOT_MADE_FLAG  GAME_DATE  HTM  VTM  \n",
       "0    50                   1               0   20221018  BOS  PHI  \n",
       "1    55                   1               1   20221018  BOS  PHI  \n",
       "2   135                   1               0   20221018  BOS  PHI  \n",
       "3     0                   1               1   20221018  BOS  PHI  \n",
       "4    49                   1               1   20221018  BOS  PHI  \n",
       "\n",
       "[5 rows x 24 columns]"
      ]
     },
     "execution_count": 38,
     "metadata": {},
     "output_type": "execute_result"
    }
   ],
   "source": [
    "df.head()"
   ]
  },
  {
   "cell_type": "code",
   "execution_count": 39,
   "metadata": {},
   "outputs": [
    {
     "data": {
      "text/plain": [
       "(91959, 24)"
      ]
     },
     "execution_count": 39,
     "metadata": {},
     "output_type": "execute_result"
    }
   ],
   "source": [
    "df.shape"
   ]
  },
  {
   "cell_type": "code",
   "execution_count": 40,
   "metadata": {},
   "outputs": [
    {
     "data": {
      "text/plain": [
       "0.47051403342794074"
      ]
     },
     "execution_count": 40,
     "metadata": {},
     "output_type": "execute_result"
    }
   ],
   "source": [
    "# what is the average made shot percentage \n",
    "# divide the sum of the shot_made_flag column by the total rows of the dataset\n",
    "df.SHOT_MADE_FLAG.sum() / df.shape[0]"
   ]
  },
  {
   "cell_type": "code",
   "execution_count": 41,
   "metadata": {
    "scrolled": true
   },
   "outputs": [
    {
     "data": {
      "text/plain": [
       "<matplotlib.collections.PathCollection at 0x1b3032156a0>"
      ]
     },
     "execution_count": 41,
     "metadata": {},
     "output_type": "execute_result"
    },
    {
     "data": {
      "image/png": "[encoded data removed]",
      "text/plain": [
       "<Figure size 432x288 with 1 Axes>"
      ]
     },
     "metadata": {
      "needs_background": "light"
     },
     "output_type": "display_data"
    }
   ],
   "source": [
    "# below idea taken from sports analytics Foundational course on Coursera \n",
    "# quick scatter on the shot locations\n",
    "\n",
    "x = df['LOC_X']\n",
    "y = df['LOC_Y']\n",
    "plt.scatter(x,y, s=.005,c='r', marker= '.')"
   ]
  },
  {
   "cell_type": "code",
   "execution_count": 42,
   "metadata": {},
   "outputs": [
    {
     "data": {
      "text/plain": [
       "(466.5, 933.0)"
      ]
     },
     "execution_count": 42,
     "metadata": {},
     "output_type": "execute_result"
    },
    {
     "data": {
      "image/png": "[encoded data removed]",
      "text/plain": [
       "<Figure size 564x600 with 1 Axes>"
      ]
     },
     "metadata": {
      "needs_background": "light"
     },
     "output_type": "display_data"
    }
   ],
   "source": [
    "# play with below to try and manipulate chart sizes and show shot locations on a grid plot\n",
    "plt.figure(figsize=(94/12,50/6))\n",
    "plt.scatter(x,y, s=.1,c='r', marker= '.') \n",
    "plt.minorticks_on()\n",
    "plt.grid(which='major', linewidth='.5', color='black')\n",
    "plt.grid(which='minor', linewidth='.3', color='grey')\n",
    "plt.xlim(933/2, 933)"
   ]
  },
  {
   "cell_type": "markdown",
   "metadata": {},
   "source": [
    "Next goal is to try and build a make/miss shot chart for one player (KD?), or perhaps players at different positions to show their make miss. Would be interesting to see if Centres are taking more three from say this year to 5 years ago.\n",
    "\n",
    "Do this by filtering the shot chart detail df above to one player and mark made shots in a different colour to missed shots"
   ]
  },
  {
   "cell_type": "code",
   "execution_count": null,
   "metadata": {},
   "outputs": [],
   "source": []
  }
 ],
 "metadata": {
  "kernelspec": {
   "display_name": "Python 3",
   "language": "python",
   "name": "python3"
  },
  "language_info": {
   "codemirror_mode": {
    "name": "ipython",
    "version": 3
   },
   "file_extension": ".py",
   "mimetype": "text/x-python",
   "name": "python",
   "nbconvert_exporter": "python",
   "pygments_lexer": "ipython3",
   "version": "3.8.5"
  }
 },
 "nbformat": 4,
 "nbformat_minor": 4
}
